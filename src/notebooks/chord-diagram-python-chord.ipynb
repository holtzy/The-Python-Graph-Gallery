{
 "cells": [
  {
   "source": [
    "## Input dataset"
   ],
   "cell_type": "markdown",
   "metadata": {}
  },
  {
   "source": [
    "The dataset considered in this page provides the number of people migrating from one country to another. Data used comes from this [scientific publication](https://onlinelibrary.wiley.com/doi/abs/10.1111/imre.12327) already discussed on [data-to-viz.com](https://www.data-to-viz.com/graph/chord.html)."
   ],
   "cell_type": "markdown",
   "metadata": {}
  },
  {
   "source": [
    "The data is stored online here. Let's load it into Python as follow:"
   ],
   "cell_type": "markdown",
   "metadata": {}
  },
  {
   "cell_type": "code",
   "execution_count": 50,
   "metadata": {},
   "outputs": [
    {
     "output_type": "execute_result",
     "data": {
      "text/plain": [
       "[[3.142471,\n",
       "  0.0,\n",
       "  2.107883,\n",
       "  0.0,\n",
       "  0.540887,\n",
       "  0.15598800000000002,\n",
       "  0.0,\n",
       "  0.0,\n",
       "  0.0,\n",
       "  0.673004],\n",
       " [0.0,\n",
       "  1.630997,\n",
       "  0.6012649999999999,\n",
       "  0.0,\n",
       "  0.97306,\n",
       "  0.333608,\n",
       "  0.0,\n",
       "  0.380388,\n",
       "  0.0,\n",
       "  0.8693110000000001],\n",
       " [0.0, 0.0, 2.4014759999999997, 0.0, 0.0, 0.0, 0.0, 0.0, 0.0, 0.0],\n",
       " [0.0, 0.0, 1.762587, 0.8791979999999999, 3.627847, 0.0, 0.0, 0.0, 0.0, 0.0],\n",
       " [0.0, 0.0, 1.215929, 0.276908, 0.0, 0.0, 0.0, 0.0, 0.0, 0.0],\n",
       " [0.0, 0.0, 0.17037, 0.0, 0.0, 0.190706, 0.0, 0.0, 0.0, 0.0],\n",
       " [0.0,\n",
       "  0.525881,\n",
       "  1.390272,\n",
       "  0.0,\n",
       "  1.508008,\n",
       "  0.34742,\n",
       "  1.307907,\n",
       "  0.0,\n",
       "  0.0,\n",
       "  4.902081],\n",
       " [0.0,\n",
       "  0.145264,\n",
       "  0.468762,\n",
       "  0.0,\n",
       "  1.0579040000000002,\n",
       "  0.278746,\n",
       "  0.0,\n",
       "  0.781316,\n",
       "  0.0,\n",
       "  0.0],\n",
       " [0.0, 0.0, 0.60923, 0.0, 0.0, 0.0, 0.0, 0.0, 1.8705009999999997, 0.0],\n",
       " [0.0, 0.0, 0.44962299999999994, 0.0, 0.169274, 0.0, 0.0, 0.0, 0.0, 0.927243]]"
      ]
     },
     "metadata": {},
     "execution_count": 50
    }
   ],
   "source": [
    "# Pandas is gonna be used to read the csv file stored on the web:\n",
    "import pandas as pd\n",
    "\n",
    "# Load dataset from github\n",
    "data = pd.read_csv(\"https://raw.githubusercontent.com/holtzy/data_to_viz/master/Example_dataset/13_AdjacencyDirectedWeighted.csv\", sep=\" \")\n",
    "data\n",
    "\n",
    "# Create a list of all the items in the diagram\n",
    "names = data.columns.values\n",
    "\n",
    "data = data.values.tolist()\n",
    "data"
   ]
  },
  {
   "source": [
    "What's important to understand here is that the chord library used later needs a `matrix` as input."
   ],
   "cell_type": "markdown",
   "metadata": {}
  },
  {
   "source": [
    "## Installing the `chord` library"
   ],
   "cell_type": "markdown",
   "metadata": {}
  },
  {
   "source": [
    "All the hard work is gonna be tackled by the [chord library](https://github.com/shahinrostami/chord). This library basically wraps some javascript functions available in a really powerful library called d3.js. But you do not really need to take care about this 🎉 "
   ],
   "cell_type": "markdown",
   "metadata": {}
  },
  {
   "source": [
    "In order to take advantage of this library, we need to use it:"
   ],
   "cell_type": "markdown",
   "metadata": {}
  },
  {
   "cell_type": "code",
   "execution_count": 51,
   "metadata": {},
   "outputs": [
    {
     "output_type": "stream",
     "name": "stdout",
     "text": [
      "Requirement already satisfied: chord in /opt/anaconda3/lib/python3.8/site-packages (0.10.0)\n",
      "Note: you may need to restart the kernel to use updated packages.\n"
     ]
    }
   ],
   "source": [
    "pip install chord"
   ]
  },
  {
   "source": [
    "## Most basic chord diagram\n"
   ],
   "cell_type": "markdown",
   "metadata": {}
  },
  {
   "source": [
    "Let's start with the most simple chord diagram that can be built with this library"
   ],
   "cell_type": "markdown",
   "metadata": {}
  },
  {
   "cell_type": "code",
   "execution_count": 52,
   "metadata": {},
   "outputs": [],
   "source": [
    "# Import the library\n",
    "from chord import Chord\n",
    "\n",
    "\n",
    "# Basic cord diagram\n",
    "# TODO THIS WON'T WORK BECAUSE INPUT TYPE ISN'T RECOGNIZE\n",
    "# Chord(data, names).to_html(\"../../static/interactiveCharts/chord-diagram-chord-library.html\")"
   ]
  },
  {
   "cell_type": "code",
   "execution_count": 53,
   "metadata": {},
   "outputs": [
    {
     "output_type": "execute_result",
     "data": {
      "text/plain": [
       "[[0, 5, 6, 4, 7, 4],\n",
       " [5, 0, 5, 4, 6, 5],\n",
       " [6, 5, 0, 4, 5, 5],\n",
       " [4, 4, 4, 0, 5, 5],\n",
       " [7, 6, 5, 5, 0, 4],\n",
       " [4, 5, 5, 5, 4, 0]]"
      ]
     },
     "metadata": {},
     "execution_count": 53
    }
   ],
   "source": [
    "matrix = [\n",
    "    [0, 5, 6, 4, 7, 4],\n",
    "    [5, 0, 5, 4, 6, 5],\n",
    "    [6, 5, 0, 4, 5, 5],\n",
    "    [4, 4, 4, 0, 5, 5],\n",
    "    [7, 6, 5, 5, 0, 4],\n",
    "    [4, 5, 5, 5, 4, 0],\n",
    "]\n",
    "\n",
    "\n",
    "names = [\"Action\", \"Adventure\", \"Comedy\", \"Drama\", \"Fantasy\", \"Thriller\"]\n",
    "\n",
    "matrix"
   ]
  },
  {
   "cell_type": "code",
   "execution_count": 54,
   "metadata": {},
   "outputs": [],
   "source": [
    "Chord(matrix, names).to_html(\"../../static/interactiveCharts/chord-diagram-chord-library.html\")"
   ]
  },
  {
   "cell_type": "code",
   "execution_count": 55,
   "metadata": {},
   "outputs": [
    {
     "output_type": "display_data",
     "data": {
      "text/plain": "<IPython.core.display.HTML object>",
      "text/html": "<iframe src=\"../../interactiveCharts/chord-diagram-chord-library.html\" width=\"800\" height=\"600\" title=\"Chord diagram with the chord library\" style=\"border:none\"></iframe>\n"
     },
     "metadata": {}
    }
   ],
   "source": [
    "%%html\n",
    "<iframe src=\"../../interactiveCharts/chord-diagram-chord-library.html\" width=\"800\" height=\"600\" title=\"Chord diagram with the chord library\" style=\"border:none\"></iframe>"
   ]
  }
 ],
 "metadata": {
  "title": "Chord diagram with Python and the chord library",
  "description": "A chord diagram is a chart type allowing to visualise flows between entities. The chord library is probably the best way to build a chord diagram with Python. This blogpost will guide you through its usage.",
  "family": "flow",
  "chartType": "chordDiagram",
  "slug": "chord-diagram-python-chord",
  "keywords": "python, chart, plot, seaborn, matplotlib, chord, diagram",
  "seoDescription": "Code and explanation concerning the chord library that allows to build chord diagrams with Python",
  "kernelspec": {
   "display_name": "Python 3",
   "language": "python",
   "name": "python3"
  },
  "language_info": {
   "codemirror_mode": {
    "name": "ipython",
    "version": 3
   },
   "file_extension": ".py",
   "mimetype": "text/x-python",
   "name": "python",
   "nbconvert_exporter": "python",
   "pygments_lexer": "ipython3",
   "version": "3.8.3-final"
  }
 },
 "nbformat": 4,
 "nbformat_minor": 4
}