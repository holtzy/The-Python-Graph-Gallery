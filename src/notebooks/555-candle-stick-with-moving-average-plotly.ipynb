{
 "cells": [
  {
   "cell_type": "markdown",
   "metadata": {
    "tags": []
   },
   "source": [
    "## Libraries\n",
    "\n",
    "First, we need to install the **plotly**:\n",
    "\n",
    "`pip install plotly`\n",
    "\n",
    "And since we'll load **data from yahoo finance**, we need the `yfinance` library:\n",
    "\n",
    "`pip install yfinance`\n",
    "\n",
    "We'll also need the `pandas` module to calculate the moving average."
   ]
  },
  {
   "cell_type": "code",
   "execution_count": 1,
   "metadata": {
    "tags": []
   },
   "outputs": [],
   "source": [
    "import plotly.graph_objects as go\n",
    "import yfinance as yf\n",
    "import pandas as pd"
   ]
  },
  {
   "cell_type": "markdown",
   "metadata": {},
   "source": [
    "## Dataset\n",
    "\n",
    "[Candlestick charts](https://python-graph-gallery.com/candlestick/) are mainly used to represent **financial data**, especially stock prices.\n",
    "\n",
    "In this post, we'll load Apple's share price data, directly from our **Python** code via the `yfinance` library. All we need to do is define the desired **start** and **end** data (`yyyy-mm-dd` format), and the **ticker** or symbol associated with this company (in this case `\"AAPL\"`).\n",
    "\n",
    "Our dataset must have the **characteristics** needed to produce our graph easily:\n",
    "- be a pandas dataframe\n",
    "- a date index\n",
    "- an Open column\n",
    "- a High column\n",
    "- a Low column\n",
    "- a Close column\n",
    "\n",
    "The **tickers** can be found on easily on [yahoo finance](https://finance.yahoo.com)."
   ]
  },
  {
   "cell_type": "code",
   "execution_count": 2,
   "metadata": {
    "tags": []
   },
   "outputs": [
    {
     "name": "stdout",
     "output_type": "stream",
     "text": [
      "[*********************100%%**********************]  1 of 1 completed\n"
     ]
    }
   ],
   "source": [
    "# Define the stock symbol and date range\n",
    "stock_symbol = \"^FCHI\"  # Example: CAC40 (largest French companies)\n",
    "start_date = \"2020-01-01\"\n",
    "end_date = \"2020-03-30\"\n",
    "\n",
    "# Load historical data\n",
    "stock_data = yf.download(stock_symbol,\n",
    "                         start=start_date, end=end_date)"
   ]
  },
  {
   "cell_type": "markdown",
   "metadata": {},
   "source": [
    "Once we have our dataset, we just need to **calculate the moving averages**. Thanks to the `rolling()` function from [pandas](https://python-graph-gallery.com/pandas/), it's actually pretty easy:"
   ]
  },
  {
   "cell_type": "code",
   "execution_count": 3,
   "metadata": {
    "tags": []
   },
   "outputs": [],
   "source": [
    "# Moving average over a window of 3 and 8\n",
    "stock_data['moving3'] = stock_data['Close'].rolling(3).mean()\n",
    "stock_data['moving8'] = stock_data['Close'].rolling(8).mean()"
   ]
  },
  {
   "cell_type": "markdown",
   "metadata": {},
   "source": [
    "## Candlestick with one moving average\n",
    "\n",
    "Once we've opened our dataset, we'll now **create the graph**. We have to **specify which column to use** for opening, closing etc. \n",
    "\n",
    "To add the moving average, all we need to do is add an `Scatter` to the `data` argument, and specify the values on the **x-axis** (in this case, time) and those on the **y-axis** (the moving average calculated previously). "
   ]
  },
  {
   "cell_type": "code",
   "execution_count": 4,
   "metadata": {
    "tags": []
   },
   "outputs": [
    {
     "data": {
      "application/vnd.plotly.v1+json": {
       "config": {
        "plotlyServerURL": "https://plot.ly"
       },
       "data": [
        {
         "close": [
          6041.5,
          6044.16015625,
          6013.58984375,
          6012.35009765625,
          6031,
          6042.5498046875,
          6037.10986328125,
          6036.14013671875,
          6040.89013671875,
          6032.60986328125,
          6039.02978515625,
          6100.72021484375,
          6078.5400390625,
          6045.990234375,
          6010.97998046875,
          5971.7900390625,
          6024.259765625,
          5863.02001953125,
          5925.81982421875,
          5954.89013671875,
          5871.77001953125,
          5806.33984375,
          5832.509765625,
          5935.0498046875,
          5985.39990234375,
          6038.18017578125,
          6029.75,
          6015.669921875,
          6054.759765625,
          6104.72998046875,
          6093.14013671875,
          6069.35009765625,
          6085.9501953125,
          6056.81982421875,
          6111.240234375,
          6062.2998046875,
          6029.72021484375,
          5791.8701171875,
          5679.68017578125,
          5684.5498046875,
          5495.60009765625,
          5309.89990234375,
          5333.52001953125,
          5393.169921875,
          5464.89013671875,
          5361.10009765625,
          5139.10986328125,
          4707.91015625,
          4636.60986328125,
          4610.25,
          4044.260009765625,
          4118.35986328125,
          3881.4599609375,
          3991.780029296875,
          3754.840087890625,
          3855.5,
          4048.800048828125,
          3914.31005859375,
          4242.7001953125,
          4432.2998046875,
          4543.580078125,
          4351.490234375
         ],
         "high": [
          6062.919921875,
          6044.16015625,
          6017.97021484375,
          6065.740234375,
          6031,
          6071.66015625,
          6057.830078125,
          6058.68994140625,
          6046.1201171875,
          6053.009765625,
          6058.97021484375,
          6109.81005859375,
          6094.08984375,
          6045.990234375,
          6069.259765625,
          6024.31982421875,
          6064.5498046875,
          5942.830078125,
          5933.72021484375,
          5969.72998046875,
          5904.080078125,
          5894.68994140625,
          5857.39990234375,
          5935.0498046875,
          6004.330078125,
          6050.93994140625,
          6044.97021484375,
          6018.31005859375,
          6060.97021484375,
          6104.72998046875,
          6098.259765625,
          6096.06982421875,
          6088.60009765625,
          6079.5,
          6111.41015625,
          6110.9501953125,
          6067.2900390625,
          5884.85986328125,
          5828.4599609375,
          5707.31005859375,
          5613.72021484375,
          5376.0498046875,
          5430.0498046875,
          5509.27978515625,
          5493.25,
          5494.16015625,
          5284.080078125,
          4863.33984375,
          4924.83984375,
          4766,
          4404.259765625,
          4438.509765625,
          3962.010009765625,
          4042.4599609375,
          3908.719970703125,
          3909.14990234375,
          4109.10986328125,
          4097.81982421875,
          4242.7001953125,
          4453.009765625,
          4543.580078125,
          4471.3701171875
         ],
         "low": [
          6011.2099609375,
          5994.58984375,
          5955.25,
          6000,
          5972.77001953125,
          6034.14990234375,
          6028.2900390625,
          6018.330078125,
          5980.0498046875,
          6011.27978515625,
          6021.02978515625,
          6066.2900390625,
          6071.169921875,
          5994.169921875,
          6005.77001953125,
          5961.8701171875,
          6016.77001953125,
          5851,
          5857.22998046875,
          5916.22998046875,
          5846.4501953125,
          5799.0400390625,
          5804.14013671875,
          5862.81982421875,
          5912.490234375,
          6008.5498046875,
          5999.9501953125,
          5993.91015625,
          6032.7900390625,
          6062.97021484375,
          6028.27978515625,
          6067.14013671875,
          6064.919921875,
          6039.93994140625,
          6072.66015625,
          6062.2998046875,
          5995.14013671875,
          5765.169921875,
          5670.7099609375,
          5526.14013671875,
          5421.31005859375,
          5229.56005859375,
          5197.56982421875,
          5371.66015625,
          5357.35009765625,
          5329.240234375,
          5117.56982421875,
          4691.2001953125,
          4615.16015625,
          4603.0498046875,
          4025.889892578125,
          4055.18994140625,
          3632.06005859375,
          3759,
          3726.449951171875,
          3691.080078125,
          3984.300048828125,
          3851.169921875,
          4038.06005859375,
          4221.31982421875,
          4296.06005859375,
          4288.66015625
         ],
         "open": [
          6016.60986328125,
          6007.9599609375,
          6001.2099609375,
          6033.22021484375,
          5986.81005859375,
          6066.75,
          6056.740234375,
          6040.91015625,
          6037.4501953125,
          6042.72021484375,
          6039.6201171875,
          6066.2900390625,
          6092.97021484375,
          6034.240234375,
          6053.85009765625,
          5992.47021484375,
          6019.60009765625,
          5924.06005859375,
          5886.81005859375,
          5921.97021484375,
          5886.02001953125,
          5891.7099609375,
          5822.0400390625,
          5863.35986328125,
          5919.06005859375,
          6045.0400390625,
          6027.5400390625,
          6008.47998046875,
          6047.9599609375,
          6064.25,
          6076.919921875,
          6096.06982421875,
          6079.52978515625,
          6042.3798828125,
          6086.10986328125,
          6105.169921875,
          6035.02978515625,
          5875.85986328125,
          5825.3701171875,
          5646.14013671875,
          5571.72021484375,
          5310.81982421875,
          5416.02001953125,
          5408.14990234375,
          5400.43017578125,
          5490.52001953125,
          5253.81982421875,
          4845.27001953125,
          4770.6201171875,
          4716.22021484375,
          4374.669921875,
          4234.3701171875,
          3886.820068359375,
          4041.330078125,
          3905.530029296875,
          3833.989990234375,
          4066.7900390625,
          3869.010009765625,
          4087.610107421875,
          4339.7099609375,
          4332.7900390625,
          4433.9501953125
         ],
         "type": "candlestick",
         "x": [
          "2020-01-02T00:00:00",
          "2020-01-03T00:00:00",
          "2020-01-06T00:00:00",
          "2020-01-07T00:00:00",
          "2020-01-08T00:00:00",
          "2020-01-09T00:00:00",
          "2020-01-10T00:00:00",
          "2020-01-13T00:00:00",
          "2020-01-14T00:00:00",
          "2020-01-15T00:00:00",
          "2020-01-16T00:00:00",
          "2020-01-17T00:00:00",
          "2020-01-20T00:00:00",
          "2020-01-21T00:00:00",
          "2020-01-22T00:00:00",
          "2020-01-23T00:00:00",
          "2020-01-24T00:00:00",
          "2020-01-27T00:00:00",
          "2020-01-28T00:00:00",
          "2020-01-29T00:00:00",
          "2020-01-30T00:00:00",
          "2020-01-31T00:00:00",
          "2020-02-03T00:00:00",
          "2020-02-04T00:00:00",
          "2020-02-05T00:00:00",
          "2020-02-06T00:00:00",
          "2020-02-07T00:00:00",
          "2020-02-10T00:00:00",
          "2020-02-11T00:00:00",
          "2020-02-12T00:00:00",
          "2020-02-13T00:00:00",
          "2020-02-14T00:00:00",
          "2020-02-17T00:00:00",
          "2020-02-18T00:00:00",
          "2020-02-19T00:00:00",
          "2020-02-20T00:00:00",
          "2020-02-21T00:00:00",
          "2020-02-24T00:00:00",
          "2020-02-25T00:00:00",
          "2020-02-26T00:00:00",
          "2020-02-27T00:00:00",
          "2020-02-28T00:00:00",
          "2020-03-02T00:00:00",
          "2020-03-03T00:00:00",
          "2020-03-04T00:00:00",
          "2020-03-05T00:00:00",
          "2020-03-06T00:00:00",
          "2020-03-09T00:00:00",
          "2020-03-10T00:00:00",
          "2020-03-11T00:00:00",
          "2020-03-12T00:00:00",
          "2020-03-13T00:00:00",
          "2020-03-16T00:00:00",
          "2020-03-17T00:00:00",
          "2020-03-18T00:00:00",
          "2020-03-19T00:00:00",
          "2020-03-20T00:00:00",
          "2020-03-23T00:00:00",
          "2020-03-24T00:00:00",
          "2020-03-25T00:00:00",
          "2020-03-26T00:00:00",
          "2020-03-27T00:00:00"
         ]
        },
        {
         "type": "scatter",
         "x": [
          "2020-01-02T00:00:00",
          "2020-01-03T00:00:00",
          "2020-01-06T00:00:00",
          "2020-01-07T00:00:00",
          "2020-01-08T00:00:00",
          "2020-01-09T00:00:00",
          "2020-01-10T00:00:00",
          "2020-01-13T00:00:00",
          "2020-01-14T00:00:00",
          "2020-01-15T00:00:00",
          "2020-01-16T00:00:00",
          "2020-01-17T00:00:00",
          "2020-01-20T00:00:00",
          "2020-01-21T00:00:00",
          "2020-01-22T00:00:00",
          "2020-01-23T00:00:00",
          "2020-01-24T00:00:00",
          "2020-01-27T00:00:00",
          "2020-01-28T00:00:00",
          "2020-01-29T00:00:00",
          "2020-01-30T00:00:00",
          "2020-01-31T00:00:00",
          "2020-02-03T00:00:00",
          "2020-02-04T00:00:00",
          "2020-02-05T00:00:00",
          "2020-02-06T00:00:00",
          "2020-02-07T00:00:00",
          "2020-02-10T00:00:00",
          "2020-02-11T00:00:00",
          "2020-02-12T00:00:00",
          "2020-02-13T00:00:00",
          "2020-02-14T00:00:00",
          "2020-02-17T00:00:00",
          "2020-02-18T00:00:00",
          "2020-02-19T00:00:00",
          "2020-02-20T00:00:00",
          "2020-02-21T00:00:00",
          "2020-02-24T00:00:00",
          "2020-02-25T00:00:00",
          "2020-02-26T00:00:00",
          "2020-02-27T00:00:00",
          "2020-02-28T00:00:00",
          "2020-03-02T00:00:00",
          "2020-03-03T00:00:00",
          "2020-03-04T00:00:00",
          "2020-03-05T00:00:00",
          "2020-03-06T00:00:00",
          "2020-03-09T00:00:00",
          "2020-03-10T00:00:00",
          "2020-03-11T00:00:00",
          "2020-03-12T00:00:00",
          "2020-03-13T00:00:00",
          "2020-03-16T00:00:00",
          "2020-03-17T00:00:00",
          "2020-03-18T00:00:00",
          "2020-03-19T00:00:00",
          "2020-03-20T00:00:00",
          "2020-03-23T00:00:00",
          "2020-03-24T00:00:00",
          "2020-03-25T00:00:00",
          "2020-03-26T00:00:00",
          "2020-03-27T00:00:00"
         ],
         "y": [
          null,
          null,
          6033.083333333333,
          6023.36669921875,
          6018.97998046875,
          6028.63330078125,
          6036.886555989583,
          6038.599934895833,
          6038.046712239583,
          6036.546712239583,
          6037.509928385417,
          6057.453287760417,
          6072.763346354167,
          6075.08349609375,
          6045.170084635417,
          6009.586751302083,
          6002.34326171875,
          5953.023274739583,
          5937.699869791667,
          5914.57666015625,
          5917.493326822917,
          5877.666666666667,
          5836.873209635417,
          5857.966471354167,
          5917.653157552083,
          5986.2099609375,
          6017.776692708333,
          6027.86669921875,
          6033.393229166667,
          6058.386555989583,
          6084.2099609375,
          6089.073404947917,
          6082.8134765625,
          6070.706705729167,
          6084.670084635417,
          6076.78662109375,
          6067.75341796875,
          5961.296712239583,
          5833.7568359375,
          5718.700032552083,
          5619.943359375,
          5496.683268229167,
          5379.67333984375,
          5345.529947916667,
          5397.193359375,
          5406.38671875,
          5321.700032552083,
          5069.373372395833,
          4827.876627604167,
          4651.590006510417,
          4430.373291015625,
          4257.623291015625,
          4014.6932779947915,
          3997.199951171875,
          3876.0266927083335,
          3867.3733723958335,
          3886.3800455729165,
          3939.5367024739585,
          4068.6034342447915,
          4196.436686197917,
          4406.193359375,
          4442.456705729167
         ]
        }
       ],
       "layout": {
        "autosize": false,
        "height": 500,
        "showlegend": false,
        "template": {
         "data": {
          "bar": [
           {
            "error_x": {
             "color": "#2a3f5f"
            },
            "error_y": {
             "color": "#2a3f5f"
            },
            "marker": {
             "line": {
              "color": "#E5ECF6",
              "width": 0.5
             },
             "pattern": {
              "fillmode": "overlay",
              "size": 10,
              "solidity": 0.2
             }
            },
            "type": "bar"
           }
          ],
          "barpolar": [
           {
            "marker": {
             "line": {
              "color": "#E5ECF6",
              "width": 0.5
             },
             "pattern": {
              "fillmode": "overlay",
              "size": 10,
              "solidity": 0.2
             }
            },
            "type": "barpolar"
           }
          ],
          "carpet": [
           {
            "aaxis": {
             "endlinecolor": "#2a3f5f",
             "gridcolor": "white",
             "linecolor": "white",
             "minorgridcolor": "white",
             "startlinecolor": "#2a3f5f"
            },
            "baxis": {
             "endlinecolor": "#2a3f5f",
             "gridcolor": "white",
             "linecolor": "white",
             "minorgridcolor": "white",
             "startlinecolor": "#2a3f5f"
            },
            "type": "carpet"
           }
          ],
          "choropleth": [
           {
            "colorbar": {
             "outlinewidth": 0,
             "ticks": ""
            },
            "type": "choropleth"
           }
          ],
          "contour": [
           {
            "colorbar": {
             "outlinewidth": 0,
             "ticks": ""
            },
            "colorscale": [
             [
              0,
              "#0d0887"
             ],
             [
              0.1111111111111111,
              "#46039f"
             ],
             [
              0.2222222222222222,
              "#7201a8"
             ],
             [
              0.3333333333333333,
              "#9c179e"
             ],
             [
              0.4444444444444444,
              "#bd3786"
             ],
             [
              0.5555555555555556,
              "#d8576b"
             ],
             [
              0.6666666666666666,
              "#ed7953"
             ],
             [
              0.7777777777777778,
              "#fb9f3a"
             ],
             [
              0.8888888888888888,
              "#fdca26"
             ],
             [
              1,
              "#f0f921"
             ]
            ],
            "type": "contour"
           }
          ],
          "contourcarpet": [
           {
            "colorbar": {
             "outlinewidth": 0,
             "ticks": ""
            },
            "type": "contourcarpet"
           }
          ],
          "heatmap": [
           {
            "colorbar": {
             "outlinewidth": 0,
             "ticks": ""
            },
            "colorscale": [
             [
              0,
              "#0d0887"
             ],
             [
              0.1111111111111111,
              "#46039f"
             ],
             [
              0.2222222222222222,
              "#7201a8"
             ],
             [
              0.3333333333333333,
              "#9c179e"
             ],
             [
              0.4444444444444444,
              "#bd3786"
             ],
             [
              0.5555555555555556,
              "#d8576b"
             ],
             [
              0.6666666666666666,
              "#ed7953"
             ],
             [
              0.7777777777777778,
              "#fb9f3a"
             ],
             [
              0.8888888888888888,
              "#fdca26"
             ],
             [
              1,
              "#f0f921"
             ]
            ],
            "type": "heatmap"
           }
          ],
          "heatmapgl": [
           {
            "colorbar": {
             "outlinewidth": 0,
             "ticks": ""
            },
            "colorscale": [
             [
              0,
              "#0d0887"
             ],
             [
              0.1111111111111111,
              "#46039f"
             ],
             [
              0.2222222222222222,
              "#7201a8"
             ],
             [
              0.3333333333333333,
              "#9c179e"
             ],
             [
              0.4444444444444444,
              "#bd3786"
             ],
             [
              0.5555555555555556,
              "#d8576b"
             ],
             [
              0.6666666666666666,
              "#ed7953"
             ],
             [
              0.7777777777777778,
              "#fb9f3a"
             ],
             [
              0.8888888888888888,
              "#fdca26"
             ],
             [
              1,
              "#f0f921"
             ]
            ],
            "type": "heatmapgl"
           }
          ],
          "histogram": [
           {
            "marker": {
             "pattern": {
              "fillmode": "overlay",
              "size": 10,
              "solidity": 0.2
             }
            },
            "type": "histogram"
           }
          ],
          "histogram2d": [
           {
            "colorbar": {
             "outlinewidth": 0,
             "ticks": ""
            },
            "colorscale": [
             [
              0,
              "#0d0887"
             ],
             [
              0.1111111111111111,
              "#46039f"
             ],
             [
              0.2222222222222222,
              "#7201a8"
             ],
             [
              0.3333333333333333,
              "#9c179e"
             ],
             [
              0.4444444444444444,
              "#bd3786"
             ],
             [
              0.5555555555555556,
              "#d8576b"
             ],
             [
              0.6666666666666666,
              "#ed7953"
             ],
             [
              0.7777777777777778,
              "#fb9f3a"
             ],
             [
              0.8888888888888888,
              "#fdca26"
             ],
             [
              1,
              "#f0f921"
             ]
            ],
            "type": "histogram2d"
           }
          ],
          "histogram2dcontour": [
           {
            "colorbar": {
             "outlinewidth": 0,
             "ticks": ""
            },
            "colorscale": [
             [
              0,
              "#0d0887"
             ],
             [
              0.1111111111111111,
              "#46039f"
             ],
             [
              0.2222222222222222,
              "#7201a8"
             ],
             [
              0.3333333333333333,
              "#9c179e"
             ],
             [
              0.4444444444444444,
              "#bd3786"
             ],
             [
              0.5555555555555556,
              "#d8576b"
             ],
             [
              0.6666666666666666,
              "#ed7953"
             ],
             [
              0.7777777777777778,
              "#fb9f3a"
             ],
             [
              0.8888888888888888,
              "#fdca26"
             ],
             [
              1,
              "#f0f921"
             ]
            ],
            "type": "histogram2dcontour"
           }
          ],
          "mesh3d": [
           {
            "colorbar": {
             "outlinewidth": 0,
             "ticks": ""
            },
            "type": "mesh3d"
           }
          ],
          "parcoords": [
           {
            "line": {
             "colorbar": {
              "outlinewidth": 0,
              "ticks": ""
             }
            },
            "type": "parcoords"
           }
          ],
          "pie": [
           {
            "automargin": true,
            "type": "pie"
           }
          ],
          "scatter": [
           {
            "fillpattern": {
             "fillmode": "overlay",
             "size": 10,
             "solidity": 0.2
            },
            "type": "scatter"
           }
          ],
          "scatter3d": [
           {
            "line": {
             "colorbar": {
              "outlinewidth": 0,
              "ticks": ""
             }
            },
            "marker": {
             "colorbar": {
              "outlinewidth": 0,
              "ticks": ""
             }
            },
            "type": "scatter3d"
           }
          ],
          "scattercarpet": [
           {
            "marker": {
             "colorbar": {
              "outlinewidth": 0,
              "ticks": ""
             }
            },
            "type": "scattercarpet"
           }
          ],
          "scattergeo": [
           {
            "marker": {
             "colorbar": {
              "outlinewidth": 0,
              "ticks": ""
             }
            },
            "type": "scattergeo"
           }
          ],
          "scattergl": [
           {
            "marker": {
             "colorbar": {
              "outlinewidth": 0,
              "ticks": ""
             }
            },
            "type": "scattergl"
           }
          ],
          "scattermapbox": [
           {
            "marker": {
             "colorbar": {
              "outlinewidth": 0,
              "ticks": ""
             }
            },
            "type": "scattermapbox"
           }
          ],
          "scatterpolar": [
           {
            "marker": {
             "colorbar": {
              "outlinewidth": 0,
              "ticks": ""
             }
            },
            "type": "scatterpolar"
           }
          ],
          "scatterpolargl": [
           {
            "marker": {
             "colorbar": {
              "outlinewidth": 0,
              "ticks": ""
             }
            },
            "type": "scatterpolargl"
           }
          ],
          "scatterternary": [
           {
            "marker": {
             "colorbar": {
              "outlinewidth": 0,
              "ticks": ""
             }
            },
            "type": "scatterternary"
           }
          ],
          "surface": [
           {
            "colorbar": {
             "outlinewidth": 0,
             "ticks": ""
            },
            "colorscale": [
             [
              0,
              "#0d0887"
             ],
             [
              0.1111111111111111,
              "#46039f"
             ],
             [
              0.2222222222222222,
              "#7201a8"
             ],
             [
              0.3333333333333333,
              "#9c179e"
             ],
             [
              0.4444444444444444,
              "#bd3786"
             ],
             [
              0.5555555555555556,
              "#d8576b"
             ],
             [
              0.6666666666666666,
              "#ed7953"
             ],
             [
              0.7777777777777778,
              "#fb9f3a"
             ],
             [
              0.8888888888888888,
              "#fdca26"
             ],
             [
              1,
              "#f0f921"
             ]
            ],
            "type": "surface"
           }
          ],
          "table": [
           {
            "cells": {
             "fill": {
              "color": "#EBF0F8"
             },
             "line": {
              "color": "white"
             }
            },
            "header": {
             "fill": {
              "color": "#C8D4E3"
             },
             "line": {
              "color": "white"
             }
            },
            "type": "table"
           }
          ]
         },
         "layout": {
          "annotationdefaults": {
           "arrowcolor": "#2a3f5f",
           "arrowhead": 0,
           "arrowwidth": 1
          },
          "autotypenumbers": "strict",
          "coloraxis": {
           "colorbar": {
            "outlinewidth": 0,
            "ticks": ""
           }
          },
          "colorscale": {
           "diverging": [
            [
             0,
             "#8e0152"
            ],
            [
             0.1,
             "#c51b7d"
            ],
            [
             0.2,
             "#de77ae"
            ],
            [
             0.3,
             "#f1b6da"
            ],
            [
             0.4,
             "#fde0ef"
            ],
            [
             0.5,
             "#f7f7f7"
            ],
            [
             0.6,
             "#e6f5d0"
            ],
            [
             0.7,
             "#b8e186"
            ],
            [
             0.8,
             "#7fbc41"
            ],
            [
             0.9,
             "#4d9221"
            ],
            [
             1,
             "#276419"
            ]
           ],
           "sequential": [
            [
             0,
             "#0d0887"
            ],
            [
             0.1111111111111111,
             "#46039f"
            ],
            [
             0.2222222222222222,
             "#7201a8"
            ],
            [
             0.3333333333333333,
             "#9c179e"
            ],
            [
             0.4444444444444444,
             "#bd3786"
            ],
            [
             0.5555555555555556,
             "#d8576b"
            ],
            [
             0.6666666666666666,
             "#ed7953"
            ],
            [
             0.7777777777777778,
             "#fb9f3a"
            ],
            [
             0.8888888888888888,
             "#fdca26"
            ],
            [
             1,
             "#f0f921"
            ]
           ],
           "sequentialminus": [
            [
             0,
             "#0d0887"
            ],
            [
             0.1111111111111111,
             "#46039f"
            ],
            [
             0.2222222222222222,
             "#7201a8"
            ],
            [
             0.3333333333333333,
             "#9c179e"
            ],
            [
             0.4444444444444444,
             "#bd3786"
            ],
            [
             0.5555555555555556,
             "#d8576b"
            ],
            [
             0.6666666666666666,
             "#ed7953"
            ],
            [
             0.7777777777777778,
             "#fb9f3a"
            ],
            [
             0.8888888888888888,
             "#fdca26"
            ],
            [
             1,
             "#f0f921"
            ]
           ]
          },
          "colorway": [
           "#636efa",
           "#EF553B",
           "#00cc96",
           "#ab63fa",
           "#FFA15A",
           "#19d3f3",
           "#FF6692",
           "#B6E880",
           "#FF97FF",
           "#FECB52"
          ],
          "font": {
           "color": "#2a3f5f"
          },
          "geo": {
           "bgcolor": "white",
           "lakecolor": "white",
           "landcolor": "#E5ECF6",
           "showlakes": true,
           "showland": true,
           "subunitcolor": "white"
          },
          "hoverlabel": {
           "align": "left"
          },
          "hovermode": "closest",
          "mapbox": {
           "style": "light"
          },
          "paper_bgcolor": "white",
          "plot_bgcolor": "#E5ECF6",
          "polar": {
           "angularaxis": {
            "gridcolor": "white",
            "linecolor": "white",
            "ticks": ""
           },
           "bgcolor": "#E5ECF6",
           "radialaxis": {
            "gridcolor": "white",
            "linecolor": "white",
            "ticks": ""
           }
          },
          "scene": {
           "xaxis": {
            "backgroundcolor": "#E5ECF6",
            "gridcolor": "white",
            "gridwidth": 2,
            "linecolor": "white",
            "showbackground": true,
            "ticks": "",
            "zerolinecolor": "white"
           },
           "yaxis": {
            "backgroundcolor": "#E5ECF6",
            "gridcolor": "white",
            "gridwidth": 2,
            "linecolor": "white",
            "showbackground": true,
            "ticks": "",
            "zerolinecolor": "white"
           },
           "zaxis": {
            "backgroundcolor": "#E5ECF6",
            "gridcolor": "white",
            "gridwidth": 2,
            "linecolor": "white",
            "showbackground": true,
            "ticks": "",
            "zerolinecolor": "white"
           }
          },
          "shapedefaults": {
           "line": {
            "color": "#2a3f5f"
           }
          },
          "ternary": {
           "aaxis": {
            "gridcolor": "white",
            "linecolor": "white",
            "ticks": ""
           },
           "baxis": {
            "gridcolor": "white",
            "linecolor": "white",
            "ticks": ""
           },
           "bgcolor": "#E5ECF6",
           "caxis": {
            "gridcolor": "white",
            "linecolor": "white",
            "ticks": ""
           }
          },
          "title": {
           "x": 0.05
          },
          "xaxis": {
           "automargin": true,
           "gridcolor": "white",
           "linecolor": "white",
           "ticks": "",
           "title": {
            "standoff": 15
           },
           "zerolinecolor": "white",
           "zerolinewidth": 2
          },
          "yaxis": {
           "automargin": true,
           "gridcolor": "white",
           "linecolor": "white",
           "ticks": "",
           "title": {
            "standoff": 15
           },
           "zerolinecolor": "white",
           "zerolinewidth": 2
          }
         }
        },
        "width": 700,
        "xaxis": {
         "rangeslider": {
          "visible": false
         }
        }
       }
      }
     },
     "metadata": {},
     "output_type": "display_data"
    }
   ],
   "source": [
    "fig = go.Figure(data=[go.Candlestick(\n",
    "                \n",
    "                x = stock_data.index, # date values\n",
    "                open = stock_data['Open'],\n",
    "                high = stock_data['High'],\n",
    "                low = stock_data['Low'],\n",
    "                close = stock_data['Close']),\n",
    "                      \n",
    "                      # Add the moving average\n",
    "                      go.Scatter(x=stock_data['moving3'].index,\n",
    "                                 y=stock_data['moving3'])\n",
    "                     ])\n",
    "\n",
    "# Mask a default range slider\n",
    "fig.update_layout(xaxis_rangeslider_visible=False)\n",
    "\n",
    "# Set layout size\n",
    "fig.update_layout(\n",
    "    autosize=False,\n",
    "    width=700,\n",
    "    height=500,\n",
    "    showlegend=False)"
   ]
  },
  {
   "cell_type": "markdown",
   "metadata": {},
   "source": [
    "Now, let's save the graph in a HTML file and display it in this website using an `iframe`"
   ]
  },
  {
   "cell_type": "code",
   "execution_count": 5,
   "metadata": {},
   "outputs": [],
   "source": [
    "# save this file as a standalong html file:\n",
    "fig.write_html(\"../../static/interactiveCharts/candlestick-plotly-moving-average.html\")"
   ]
  },
  {
   "cell_type": "code",
   "execution_count": 6,
   "metadata": {},
   "outputs": [
    {
     "data": {
      "text/html": [
       "<iframe \n",
       "    src=\"../../interactiveCharts/candlestick-plotly-moving-average.html\" \n",
       "    width=\"800\" \n",
       "    height=\"600\" \n",
       "    title=\"candlestick with moving average\" \n",
       "    style=\"border:none\">\n",
       "</iframe>\n"
      ],
      "text/plain": [
       "<IPython.core.display.HTML object>"
      ]
     },
     "metadata": {},
     "output_type": "display_data"
    }
   ],
   "source": [
    "%%html\n",
    "<iframe \n",
    "    src=\"../../interactiveCharts/candlestick-plotly-moving-average.html\" \n",
    "    width=\"800\" \n",
    "    height=\"600\" \n",
    "    title=\"candlestick with moving average\" \n",
    "    style=\"border:none\">\n",
    "</iframe>"
   ]
  },
  {
   "cell_type": "markdown",
   "metadata": {},
   "source": [
    "## Multiple moving averages\n",
    "\n",
    "You can easily add **as many moving averages as you want** by adding arguments when creating the figure. In our case, we'll add the **8-day** moving average. "
   ]
  },
  {
   "cell_type": "code",
   "execution_count": 7,
   "metadata": {
    "tags": []
   },
   "outputs": [
    {
     "data": {
      "application/vnd.plotly.v1+json": {
       "config": {
        "plotlyServerURL": "https://plot.ly"
       },
       "data": [
        {
         "close": [
          6041.5,
          6044.16015625,
          6013.58984375,
          6012.35009765625,
          6031,
          6042.5498046875,
          6037.10986328125,
          6036.14013671875,
          6040.89013671875,
          6032.60986328125,
          6039.02978515625,
          6100.72021484375,
          6078.5400390625,
          6045.990234375,
          6010.97998046875,
          5971.7900390625,
          6024.259765625,
          5863.02001953125,
          5925.81982421875,
          5954.89013671875,
          5871.77001953125,
          5806.33984375,
          5832.509765625,
          5935.0498046875,
          5985.39990234375,
          6038.18017578125,
          6029.75,
          6015.669921875,
          6054.759765625,
          6104.72998046875,
          6093.14013671875,
          6069.35009765625,
          6085.9501953125,
          6056.81982421875,
          6111.240234375,
          6062.2998046875,
          6029.72021484375,
          5791.8701171875,
          5679.68017578125,
          5684.5498046875,
          5495.60009765625,
          5309.89990234375,
          5333.52001953125,
          5393.169921875,
          5464.89013671875,
          5361.10009765625,
          5139.10986328125,
          4707.91015625,
          4636.60986328125,
          4610.25,
          4044.260009765625,
          4118.35986328125,
          3881.4599609375,
          3991.780029296875,
          3754.840087890625,
          3855.5,
          4048.800048828125,
          3914.31005859375,
          4242.7001953125,
          4432.2998046875,
          4543.580078125,
          4351.490234375
         ],
         "high": [
          6062.919921875,
          6044.16015625,
          6017.97021484375,
          6065.740234375,
          6031,
          6071.66015625,
          6057.830078125,
          6058.68994140625,
          6046.1201171875,
          6053.009765625,
          6058.97021484375,
          6109.81005859375,
          6094.08984375,
          6045.990234375,
          6069.259765625,
          6024.31982421875,
          6064.5498046875,
          5942.830078125,
          5933.72021484375,
          5969.72998046875,
          5904.080078125,
          5894.68994140625,
          5857.39990234375,
          5935.0498046875,
          6004.330078125,
          6050.93994140625,
          6044.97021484375,
          6018.31005859375,
          6060.97021484375,
          6104.72998046875,
          6098.259765625,
          6096.06982421875,
          6088.60009765625,
          6079.5,
          6111.41015625,
          6110.9501953125,
          6067.2900390625,
          5884.85986328125,
          5828.4599609375,
          5707.31005859375,
          5613.72021484375,
          5376.0498046875,
          5430.0498046875,
          5509.27978515625,
          5493.25,
          5494.16015625,
          5284.080078125,
          4863.33984375,
          4924.83984375,
          4766,
          4404.259765625,
          4438.509765625,
          3962.010009765625,
          4042.4599609375,
          3908.719970703125,
          3909.14990234375,
          4109.10986328125,
          4097.81982421875,
          4242.7001953125,
          4453.009765625,
          4543.580078125,
          4471.3701171875
         ],
         "low": [
          6011.2099609375,
          5994.58984375,
          5955.25,
          6000,
          5972.77001953125,
          6034.14990234375,
          6028.2900390625,
          6018.330078125,
          5980.0498046875,
          6011.27978515625,
          6021.02978515625,
          6066.2900390625,
          6071.169921875,
          5994.169921875,
          6005.77001953125,
          5961.8701171875,
          6016.77001953125,
          5851,
          5857.22998046875,
          5916.22998046875,
          5846.4501953125,
          5799.0400390625,
          5804.14013671875,
          5862.81982421875,
          5912.490234375,
          6008.5498046875,
          5999.9501953125,
          5993.91015625,
          6032.7900390625,
          6062.97021484375,
          6028.27978515625,
          6067.14013671875,
          6064.919921875,
          6039.93994140625,
          6072.66015625,
          6062.2998046875,
          5995.14013671875,
          5765.169921875,
          5670.7099609375,
          5526.14013671875,
          5421.31005859375,
          5229.56005859375,
          5197.56982421875,
          5371.66015625,
          5357.35009765625,
          5329.240234375,
          5117.56982421875,
          4691.2001953125,
          4615.16015625,
          4603.0498046875,
          4025.889892578125,
          4055.18994140625,
          3632.06005859375,
          3759,
          3726.449951171875,
          3691.080078125,
          3984.300048828125,
          3851.169921875,
          4038.06005859375,
          4221.31982421875,
          4296.06005859375,
          4288.66015625
         ],
         "open": [
          6016.60986328125,
          6007.9599609375,
          6001.2099609375,
          6033.22021484375,
          5986.81005859375,
          6066.75,
          6056.740234375,
          6040.91015625,
          6037.4501953125,
          6042.72021484375,
          6039.6201171875,
          6066.2900390625,
          6092.97021484375,
          6034.240234375,
          6053.85009765625,
          5992.47021484375,
          6019.60009765625,
          5924.06005859375,
          5886.81005859375,
          5921.97021484375,
          5886.02001953125,
          5891.7099609375,
          5822.0400390625,
          5863.35986328125,
          5919.06005859375,
          6045.0400390625,
          6027.5400390625,
          6008.47998046875,
          6047.9599609375,
          6064.25,
          6076.919921875,
          6096.06982421875,
          6079.52978515625,
          6042.3798828125,
          6086.10986328125,
          6105.169921875,
          6035.02978515625,
          5875.85986328125,
          5825.3701171875,
          5646.14013671875,
          5571.72021484375,
          5310.81982421875,
          5416.02001953125,
          5408.14990234375,
          5400.43017578125,
          5490.52001953125,
          5253.81982421875,
          4845.27001953125,
          4770.6201171875,
          4716.22021484375,
          4374.669921875,
          4234.3701171875,
          3886.820068359375,
          4041.330078125,
          3905.530029296875,
          3833.989990234375,
          4066.7900390625,
          3869.010009765625,
          4087.610107421875,
          4339.7099609375,
          4332.7900390625,
          4433.9501953125
         ],
         "type": "candlestick",
         "x": [
          "2020-01-02T00:00:00",
          "2020-01-03T00:00:00",
          "2020-01-06T00:00:00",
          "2020-01-07T00:00:00",
          "2020-01-08T00:00:00",
          "2020-01-09T00:00:00",
          "2020-01-10T00:00:00",
          "2020-01-13T00:00:00",
          "2020-01-14T00:00:00",
          "2020-01-15T00:00:00",
          "2020-01-16T00:00:00",
          "2020-01-17T00:00:00",
          "2020-01-20T00:00:00",
          "2020-01-21T00:00:00",
          "2020-01-22T00:00:00",
          "2020-01-23T00:00:00",
          "2020-01-24T00:00:00",
          "2020-01-27T00:00:00",
          "2020-01-28T00:00:00",
          "2020-01-29T00:00:00",
          "2020-01-30T00:00:00",
          "2020-01-31T00:00:00",
          "2020-02-03T00:00:00",
          "2020-02-04T00:00:00",
          "2020-02-05T00:00:00",
          "2020-02-06T00:00:00",
          "2020-02-07T00:00:00",
          "2020-02-10T00:00:00",
          "2020-02-11T00:00:00",
          "2020-02-12T00:00:00",
          "2020-02-13T00:00:00",
          "2020-02-14T00:00:00",
          "2020-02-17T00:00:00",
          "2020-02-18T00:00:00",
          "2020-02-19T00:00:00",
          "2020-02-20T00:00:00",
          "2020-02-21T00:00:00",
          "2020-02-24T00:00:00",
          "2020-02-25T00:00:00",
          "2020-02-26T00:00:00",
          "2020-02-27T00:00:00",
          "2020-02-28T00:00:00",
          "2020-03-02T00:00:00",
          "2020-03-03T00:00:00",
          "2020-03-04T00:00:00",
          "2020-03-05T00:00:00",
          "2020-03-06T00:00:00",
          "2020-03-09T00:00:00",
          "2020-03-10T00:00:00",
          "2020-03-11T00:00:00",
          "2020-03-12T00:00:00",
          "2020-03-13T00:00:00",
          "2020-03-16T00:00:00",
          "2020-03-17T00:00:00",
          "2020-03-18T00:00:00",
          "2020-03-19T00:00:00",
          "2020-03-20T00:00:00",
          "2020-03-23T00:00:00",
          "2020-03-24T00:00:00",
          "2020-03-25T00:00:00",
          "2020-03-26T00:00:00",
          "2020-03-27T00:00:00"
         ]
        },
        {
         "type": "scatter",
         "x": [
          "2020-01-02T00:00:00",
          "2020-01-03T00:00:00",
          "2020-01-06T00:00:00",
          "2020-01-07T00:00:00",
          "2020-01-08T00:00:00",
          "2020-01-09T00:00:00",
          "2020-01-10T00:00:00",
          "2020-01-13T00:00:00",
          "2020-01-14T00:00:00",
          "2020-01-15T00:00:00",
          "2020-01-16T00:00:00",
          "2020-01-17T00:00:00",
          "2020-01-20T00:00:00",
          "2020-01-21T00:00:00",
          "2020-01-22T00:00:00",
          "2020-01-23T00:00:00",
          "2020-01-24T00:00:00",
          "2020-01-27T00:00:00",
          "2020-01-28T00:00:00",
          "2020-01-29T00:00:00",
          "2020-01-30T00:00:00",
          "2020-01-31T00:00:00",
          "2020-02-03T00:00:00",
          "2020-02-04T00:00:00",
          "2020-02-05T00:00:00",
          "2020-02-06T00:00:00",
          "2020-02-07T00:00:00",
          "2020-02-10T00:00:00",
          "2020-02-11T00:00:00",
          "2020-02-12T00:00:00",
          "2020-02-13T00:00:00",
          "2020-02-14T00:00:00",
          "2020-02-17T00:00:00",
          "2020-02-18T00:00:00",
          "2020-02-19T00:00:00",
          "2020-02-20T00:00:00",
          "2020-02-21T00:00:00",
          "2020-02-24T00:00:00",
          "2020-02-25T00:00:00",
          "2020-02-26T00:00:00",
          "2020-02-27T00:00:00",
          "2020-02-28T00:00:00",
          "2020-03-02T00:00:00",
          "2020-03-03T00:00:00",
          "2020-03-04T00:00:00",
          "2020-03-05T00:00:00",
          "2020-03-06T00:00:00",
          "2020-03-09T00:00:00",
          "2020-03-10T00:00:00",
          "2020-03-11T00:00:00",
          "2020-03-12T00:00:00",
          "2020-03-13T00:00:00",
          "2020-03-16T00:00:00",
          "2020-03-17T00:00:00",
          "2020-03-18T00:00:00",
          "2020-03-19T00:00:00",
          "2020-03-20T00:00:00",
          "2020-03-23T00:00:00",
          "2020-03-24T00:00:00",
          "2020-03-25T00:00:00",
          "2020-03-26T00:00:00",
          "2020-03-27T00:00:00"
         ],
         "y": [
          null,
          null,
          6033.083333333333,
          6023.36669921875,
          6018.97998046875,
          6028.63330078125,
          6036.886555989583,
          6038.599934895833,
          6038.046712239583,
          6036.546712239583,
          6037.509928385417,
          6057.453287760417,
          6072.763346354167,
          6075.08349609375,
          6045.170084635417,
          6009.586751302083,
          6002.34326171875,
          5953.023274739583,
          5937.699869791667,
          5914.57666015625,
          5917.493326822917,
          5877.666666666667,
          5836.873209635417,
          5857.966471354167,
          5917.653157552083,
          5986.2099609375,
          6017.776692708333,
          6027.86669921875,
          6033.393229166667,
          6058.386555989583,
          6084.2099609375,
          6089.073404947917,
          6082.8134765625,
          6070.706705729167,
          6084.670084635417,
          6076.78662109375,
          6067.75341796875,
          5961.296712239583,
          5833.7568359375,
          5718.700032552083,
          5619.943359375,
          5496.683268229167,
          5379.67333984375,
          5345.529947916667,
          5397.193359375,
          5406.38671875,
          5321.700032552083,
          5069.373372395833,
          4827.876627604167,
          4651.590006510417,
          4430.373291015625,
          4257.623291015625,
          4014.6932779947915,
          3997.199951171875,
          3876.0266927083335,
          3867.3733723958335,
          3886.3800455729165,
          3939.5367024739585,
          4068.6034342447915,
          4196.436686197917,
          4406.193359375,
          4442.456705729167
         ]
        },
        {
         "type": "scatter",
         "x": [
          "2020-01-02T00:00:00",
          "2020-01-03T00:00:00",
          "2020-01-06T00:00:00",
          "2020-01-07T00:00:00",
          "2020-01-08T00:00:00",
          "2020-01-09T00:00:00",
          "2020-01-10T00:00:00",
          "2020-01-13T00:00:00",
          "2020-01-14T00:00:00",
          "2020-01-15T00:00:00",
          "2020-01-16T00:00:00",
          "2020-01-17T00:00:00",
          "2020-01-20T00:00:00",
          "2020-01-21T00:00:00",
          "2020-01-22T00:00:00",
          "2020-01-23T00:00:00",
          "2020-01-24T00:00:00",
          "2020-01-27T00:00:00",
          "2020-01-28T00:00:00",
          "2020-01-29T00:00:00",
          "2020-01-30T00:00:00",
          "2020-01-31T00:00:00",
          "2020-02-03T00:00:00",
          "2020-02-04T00:00:00",
          "2020-02-05T00:00:00",
          "2020-02-06T00:00:00",
          "2020-02-07T00:00:00",
          "2020-02-10T00:00:00",
          "2020-02-11T00:00:00",
          "2020-02-12T00:00:00",
          "2020-02-13T00:00:00",
          "2020-02-14T00:00:00",
          "2020-02-17T00:00:00",
          "2020-02-18T00:00:00",
          "2020-02-19T00:00:00",
          "2020-02-20T00:00:00",
          "2020-02-21T00:00:00",
          "2020-02-24T00:00:00",
          "2020-02-25T00:00:00",
          "2020-02-26T00:00:00",
          "2020-02-27T00:00:00",
          "2020-02-28T00:00:00",
          "2020-03-02T00:00:00",
          "2020-03-03T00:00:00",
          "2020-03-04T00:00:00",
          "2020-03-05T00:00:00",
          "2020-03-06T00:00:00",
          "2020-03-09T00:00:00",
          "2020-03-10T00:00:00",
          "2020-03-11T00:00:00",
          "2020-03-12T00:00:00",
          "2020-03-13T00:00:00",
          "2020-03-16T00:00:00",
          "2020-03-17T00:00:00",
          "2020-03-18T00:00:00",
          "2020-03-19T00:00:00",
          "2020-03-20T00:00:00",
          "2020-03-23T00:00:00",
          "2020-03-24T00:00:00",
          "2020-03-25T00:00:00",
          "2020-03-26T00:00:00",
          "2020-03-27T00:00:00"
         ],
         "y": [
          null,
          null,
          null,
          null,
          null,
          null,
          null,
          6032.299987792969,
          6032.2237548828125,
          6030.779968261719,
          6033.9599609375,
          6045.0062255859375,
          6050.94873046875,
          6051.3787841796875,
          6048.112548828125,
          6040.068786621094,
          6037.989990234375,
          6016.791259765625,
          6002.6400146484375,
          5984.4112548828125,
          5958.565002441406,
          5928.608703613281,
          5906.2999267578125,
          5901.7073974609375,
          5896.849914550781,
          5918.744934082031,
          5931.7362060546875,
          5939.333679199219,
          5962.2073974609375,
          5999.506164550781,
          6032.0849609375,
          6048.872497558594,
          6061.4412841796875,
          6063.771240234375,
          6073.95751953125,
          6079.7862548828125,
          6076.656311035156,
          6037.548828125,
          5985.8663330078125,
          5937.766296386719,
          5863.9725341796875,
          5770.6075439453125,
          5673.392517089844,
          5589.751281738281,
          5519.147521972656,
          5465.30126953125,
          5397.72998046875,
          5275.6500244140625,
          5168.2762451171875,
          5080.820007324219,
          4919.662506103516,
          4760.311248779297,
          4562.382476806641,
          4391.217468261719,
          4218.183746337891,
          4111.632476806641,
          4038.15625,
          3951.1637573242188,
          3975.968780517578,
          4015.2112731933594,
          4097.976287841797,
          4142.9400634765625
         ]
        }
       ],
       "layout": {
        "autosize": false,
        "height": 500,
        "showlegend": false,
        "template": {
         "data": {
          "bar": [
           {
            "error_x": {
             "color": "#2a3f5f"
            },
            "error_y": {
             "color": "#2a3f5f"
            },
            "marker": {
             "line": {
              "color": "#E5ECF6",
              "width": 0.5
             },
             "pattern": {
              "fillmode": "overlay",
              "size": 10,
              "solidity": 0.2
             }
            },
            "type": "bar"
           }
          ],
          "barpolar": [
           {
            "marker": {
             "line": {
              "color": "#E5ECF6",
              "width": 0.5
             },
             "pattern": {
              "fillmode": "overlay",
              "size": 10,
              "solidity": 0.2
             }
            },
            "type": "barpolar"
           }
          ],
          "carpet": [
           {
            "aaxis": {
             "endlinecolor": "#2a3f5f",
             "gridcolor": "white",
             "linecolor": "white",
             "minorgridcolor": "white",
             "startlinecolor": "#2a3f5f"
            },
            "baxis": {
             "endlinecolor": "#2a3f5f",
             "gridcolor": "white",
             "linecolor": "white",
             "minorgridcolor": "white",
             "startlinecolor": "#2a3f5f"
            },
            "type": "carpet"
           }
          ],
          "choropleth": [
           {
            "colorbar": {
             "outlinewidth": 0,
             "ticks": ""
            },
            "type": "choropleth"
           }
          ],
          "contour": [
           {
            "colorbar": {
             "outlinewidth": 0,
             "ticks": ""
            },
            "colorscale": [
             [
              0,
              "#0d0887"
             ],
             [
              0.1111111111111111,
              "#46039f"
             ],
             [
              0.2222222222222222,
              "#7201a8"
             ],
             [
              0.3333333333333333,
              "#9c179e"
             ],
             [
              0.4444444444444444,
              "#bd3786"
             ],
             [
              0.5555555555555556,
              "#d8576b"
             ],
             [
              0.6666666666666666,
              "#ed7953"
             ],
             [
              0.7777777777777778,
              "#fb9f3a"
             ],
             [
              0.8888888888888888,
              "#fdca26"
             ],
             [
              1,
              "#f0f921"
             ]
            ],
            "type": "contour"
           }
          ],
          "contourcarpet": [
           {
            "colorbar": {
             "outlinewidth": 0,
             "ticks": ""
            },
            "type": "contourcarpet"
           }
          ],
          "heatmap": [
           {
            "colorbar": {
             "outlinewidth": 0,
             "ticks": ""
            },
            "colorscale": [
             [
              0,
              "#0d0887"
             ],
             [
              0.1111111111111111,
              "#46039f"
             ],
             [
              0.2222222222222222,
              "#7201a8"
             ],
             [
              0.3333333333333333,
              "#9c179e"
             ],
             [
              0.4444444444444444,
              "#bd3786"
             ],
             [
              0.5555555555555556,
              "#d8576b"
             ],
             [
              0.6666666666666666,
              "#ed7953"
             ],
             [
              0.7777777777777778,
              "#fb9f3a"
             ],
             [
              0.8888888888888888,
              "#fdca26"
             ],
             [
              1,
              "#f0f921"
             ]
            ],
            "type": "heatmap"
           }
          ],
          "heatmapgl": [
           {
            "colorbar": {
             "outlinewidth": 0,
             "ticks": ""
            },
            "colorscale": [
             [
              0,
              "#0d0887"
             ],
             [
              0.1111111111111111,
              "#46039f"
             ],
             [
              0.2222222222222222,
              "#7201a8"
             ],
             [
              0.3333333333333333,
              "#9c179e"
             ],
             [
              0.4444444444444444,
              "#bd3786"
             ],
             [
              0.5555555555555556,
              "#d8576b"
             ],
             [
              0.6666666666666666,
              "#ed7953"
             ],
             [
              0.7777777777777778,
              "#fb9f3a"
             ],
             [
              0.8888888888888888,
              "#fdca26"
             ],
             [
              1,
              "#f0f921"
             ]
            ],
            "type": "heatmapgl"
           }
          ],
          "histogram": [
           {
            "marker": {
             "pattern": {
              "fillmode": "overlay",
              "size": 10,
              "solidity": 0.2
             }
            },
            "type": "histogram"
           }
          ],
          "histogram2d": [
           {
            "colorbar": {
             "outlinewidth": 0,
             "ticks": ""
            },
            "colorscale": [
             [
              0,
              "#0d0887"
             ],
             [
              0.1111111111111111,
              "#46039f"
             ],
             [
              0.2222222222222222,
              "#7201a8"
             ],
             [
              0.3333333333333333,
              "#9c179e"
             ],
             [
              0.4444444444444444,
              "#bd3786"
             ],
             [
              0.5555555555555556,
              "#d8576b"
             ],
             [
              0.6666666666666666,
              "#ed7953"
             ],
             [
              0.7777777777777778,
              "#fb9f3a"
             ],
             [
              0.8888888888888888,
              "#fdca26"
             ],
             [
              1,
              "#f0f921"
             ]
            ],
            "type": "histogram2d"
           }
          ],
          "histogram2dcontour": [
           {
            "colorbar": {
             "outlinewidth": 0,
             "ticks": ""
            },
            "colorscale": [
             [
              0,
              "#0d0887"
             ],
             [
              0.1111111111111111,
              "#46039f"
             ],
             [
              0.2222222222222222,
              "#7201a8"
             ],
             [
              0.3333333333333333,
              "#9c179e"
             ],
             [
              0.4444444444444444,
              "#bd3786"
             ],
             [
              0.5555555555555556,
              "#d8576b"
             ],
             [
              0.6666666666666666,
              "#ed7953"
             ],
             [
              0.7777777777777778,
              "#fb9f3a"
             ],
             [
              0.8888888888888888,
              "#fdca26"
             ],
             [
              1,
              "#f0f921"
             ]
            ],
            "type": "histogram2dcontour"
           }
          ],
          "mesh3d": [
           {
            "colorbar": {
             "outlinewidth": 0,
             "ticks": ""
            },
            "type": "mesh3d"
           }
          ],
          "parcoords": [
           {
            "line": {
             "colorbar": {
              "outlinewidth": 0,
              "ticks": ""
             }
            },
            "type": "parcoords"
           }
          ],
          "pie": [
           {
            "automargin": true,
            "type": "pie"
           }
          ],
          "scatter": [
           {
            "fillpattern": {
             "fillmode": "overlay",
             "size": 10,
             "solidity": 0.2
            },
            "type": "scatter"
           }
          ],
          "scatter3d": [
           {
            "line": {
             "colorbar": {
              "outlinewidth": 0,
              "ticks": ""
             }
            },
            "marker": {
             "colorbar": {
              "outlinewidth": 0,
              "ticks": ""
             }
            },
            "type": "scatter3d"
           }
          ],
          "scattercarpet": [
           {
            "marker": {
             "colorbar": {
              "outlinewidth": 0,
              "ticks": ""
             }
            },
            "type": "scattercarpet"
           }
          ],
          "scattergeo": [
           {
            "marker": {
             "colorbar": {
              "outlinewidth": 0,
              "ticks": ""
             }
            },
            "type": "scattergeo"
           }
          ],
          "scattergl": [
           {
            "marker": {
             "colorbar": {
              "outlinewidth": 0,
              "ticks": ""
             }
            },
            "type": "scattergl"
           }
          ],
          "scattermapbox": [
           {
            "marker": {
             "colorbar": {
              "outlinewidth": 0,
              "ticks": ""
             }
            },
            "type": "scattermapbox"
           }
          ],
          "scatterpolar": [
           {
            "marker": {
             "colorbar": {
              "outlinewidth": 0,
              "ticks": ""
             }
            },
            "type": "scatterpolar"
           }
          ],
          "scatterpolargl": [
           {
            "marker": {
             "colorbar": {
              "outlinewidth": 0,
              "ticks": ""
             }
            },
            "type": "scatterpolargl"
           }
          ],
          "scatterternary": [
           {
            "marker": {
             "colorbar": {
              "outlinewidth": 0,
              "ticks": ""
             }
            },
            "type": "scatterternary"
           }
          ],
          "surface": [
           {
            "colorbar": {
             "outlinewidth": 0,
             "ticks": ""
            },
            "colorscale": [
             [
              0,
              "#0d0887"
             ],
             [
              0.1111111111111111,
              "#46039f"
             ],
             [
              0.2222222222222222,
              "#7201a8"
             ],
             [
              0.3333333333333333,
              "#9c179e"
             ],
             [
              0.4444444444444444,
              "#bd3786"
             ],
             [
              0.5555555555555556,
              "#d8576b"
             ],
             [
              0.6666666666666666,
              "#ed7953"
             ],
             [
              0.7777777777777778,
              "#fb9f3a"
             ],
             [
              0.8888888888888888,
              "#fdca26"
             ],
             [
              1,
              "#f0f921"
             ]
            ],
            "type": "surface"
           }
          ],
          "table": [
           {
            "cells": {
             "fill": {
              "color": "#EBF0F8"
             },
             "line": {
              "color": "white"
             }
            },
            "header": {
             "fill": {
              "color": "#C8D4E3"
             },
             "line": {
              "color": "white"
             }
            },
            "type": "table"
           }
          ]
         },
         "layout": {
          "annotationdefaults": {
           "arrowcolor": "#2a3f5f",
           "arrowhead": 0,
           "arrowwidth": 1
          },
          "autotypenumbers": "strict",
          "coloraxis": {
           "colorbar": {
            "outlinewidth": 0,
            "ticks": ""
           }
          },
          "colorscale": {
           "diverging": [
            [
             0,
             "#8e0152"
            ],
            [
             0.1,
             "#c51b7d"
            ],
            [
             0.2,
             "#de77ae"
            ],
            [
             0.3,
             "#f1b6da"
            ],
            [
             0.4,
             "#fde0ef"
            ],
            [
             0.5,
             "#f7f7f7"
            ],
            [
             0.6,
             "#e6f5d0"
            ],
            [
             0.7,
             "#b8e186"
            ],
            [
             0.8,
             "#7fbc41"
            ],
            [
             0.9,
             "#4d9221"
            ],
            [
             1,
             "#276419"
            ]
           ],
           "sequential": [
            [
             0,
             "#0d0887"
            ],
            [
             0.1111111111111111,
             "#46039f"
            ],
            [
             0.2222222222222222,
             "#7201a8"
            ],
            [
             0.3333333333333333,
             "#9c179e"
            ],
            [
             0.4444444444444444,
             "#bd3786"
            ],
            [
             0.5555555555555556,
             "#d8576b"
            ],
            [
             0.6666666666666666,
             "#ed7953"
            ],
            [
             0.7777777777777778,
             "#fb9f3a"
            ],
            [
             0.8888888888888888,
             "#fdca26"
            ],
            [
             1,
             "#f0f921"
            ]
           ],
           "sequentialminus": [
            [
             0,
             "#0d0887"
            ],
            [
             0.1111111111111111,
             "#46039f"
            ],
            [
             0.2222222222222222,
             "#7201a8"
            ],
            [
             0.3333333333333333,
             "#9c179e"
            ],
            [
             0.4444444444444444,
             "#bd3786"
            ],
            [
             0.5555555555555556,
             "#d8576b"
            ],
            [
             0.6666666666666666,
             "#ed7953"
            ],
            [
             0.7777777777777778,
             "#fb9f3a"
            ],
            [
             0.8888888888888888,
             "#fdca26"
            ],
            [
             1,
             "#f0f921"
            ]
           ]
          },
          "colorway": [
           "#636efa",
           "#EF553B",
           "#00cc96",
           "#ab63fa",
           "#FFA15A",
           "#19d3f3",
           "#FF6692",
           "#B6E880",
           "#FF97FF",
           "#FECB52"
          ],
          "font": {
           "color": "#2a3f5f"
          },
          "geo": {
           "bgcolor": "white",
           "lakecolor": "white",
           "landcolor": "#E5ECF6",
           "showlakes": true,
           "showland": true,
           "subunitcolor": "white"
          },
          "hoverlabel": {
           "align": "left"
          },
          "hovermode": "closest",
          "mapbox": {
           "style": "light"
          },
          "paper_bgcolor": "white",
          "plot_bgcolor": "#E5ECF6",
          "polar": {
           "angularaxis": {
            "gridcolor": "white",
            "linecolor": "white",
            "ticks": ""
           },
           "bgcolor": "#E5ECF6",
           "radialaxis": {
            "gridcolor": "white",
            "linecolor": "white",
            "ticks": ""
           }
          },
          "scene": {
           "xaxis": {
            "backgroundcolor": "#E5ECF6",
            "gridcolor": "white",
            "gridwidth": 2,
            "linecolor": "white",
            "showbackground": true,
            "ticks": "",
            "zerolinecolor": "white"
           },
           "yaxis": {
            "backgroundcolor": "#E5ECF6",
            "gridcolor": "white",
            "gridwidth": 2,
            "linecolor": "white",
            "showbackground": true,
            "ticks": "",
            "zerolinecolor": "white"
           },
           "zaxis": {
            "backgroundcolor": "#E5ECF6",
            "gridcolor": "white",
            "gridwidth": 2,
            "linecolor": "white",
            "showbackground": true,
            "ticks": "",
            "zerolinecolor": "white"
           }
          },
          "shapedefaults": {
           "line": {
            "color": "#2a3f5f"
           }
          },
          "ternary": {
           "aaxis": {
            "gridcolor": "white",
            "linecolor": "white",
            "ticks": ""
           },
           "baxis": {
            "gridcolor": "white",
            "linecolor": "white",
            "ticks": ""
           },
           "bgcolor": "#E5ECF6",
           "caxis": {
            "gridcolor": "white",
            "linecolor": "white",
            "ticks": ""
           }
          },
          "title": {
           "x": 0.05
          },
          "xaxis": {
           "automargin": true,
           "gridcolor": "white",
           "linecolor": "white",
           "ticks": "",
           "title": {
            "standoff": 15
           },
           "zerolinecolor": "white",
           "zerolinewidth": 2
          },
          "yaxis": {
           "automargin": true,
           "gridcolor": "white",
           "linecolor": "white",
           "ticks": "",
           "title": {
            "standoff": 15
           },
           "zerolinecolor": "white",
           "zerolinewidth": 2
          }
         }
        },
        "width": 700,
        "xaxis": {
         "rangeslider": {
          "visible": false
         }
        }
       }
      }
     },
     "metadata": {},
     "output_type": "display_data"
    }
   ],
   "source": [
    "fig = go.Figure(data=[go.Candlestick(\n",
    "                \n",
    "                x = stock_data.index, # date values\n",
    "                open = stock_data['Open'],\n",
    "                high = stock_data['High'],\n",
    "                low = stock_data['Low'],\n",
    "                close = stock_data['Close']),\n",
    "                      \n",
    "                      # Add the moving average\n",
    "                      go.Scatter(x=stock_data['moving3'].index,\n",
    "                                 y=stock_data['moving3']),\n",
    "                      go.Scatter(x=stock_data['moving8'].index,\n",
    "                                 y=stock_data['moving8'])\n",
    "                     ])\n",
    "\n",
    "# Mask a default range slider\n",
    "fig.update_layout(xaxis_rangeslider_visible=False)\n",
    "\n",
    "# Set layout size\n",
    "fig.update_layout(\n",
    "    autosize=False,\n",
    "    width=700,\n",
    "    height=500,\n",
    "    showlegend=False)"
   ]
  },
  {
   "cell_type": "markdown",
   "metadata": {},
   "source": [
    "Now, let's save the graph in a HTML file and display it in this website using an `iframe`"
   ]
  },
  {
   "cell_type": "code",
   "execution_count": 8,
   "metadata": {},
   "outputs": [],
   "source": [
    "# save this file as a standalong html file:\n",
    "fig.write_html(\"../../static/interactiveCharts/candlestick-plotly-moving-average-2.html\")"
   ]
  },
  {
   "cell_type": "code",
   "execution_count": 9,
   "metadata": {},
   "outputs": [
    {
     "data": {
      "text/html": [
       "<iframe \n",
       "    src=\"../../interactiveCharts/candlestick-plotly-moving-average-2.html\" \n",
       "    width=\"800\" \n",
       "    height=\"600\" \n",
       "    title=\"candlestick with moving average 2\" \n",
       "    style=\"border:none\">\n",
       "</iframe>\n"
      ],
      "text/plain": [
       "<IPython.core.display.HTML object>"
      ]
     },
     "metadata": {},
     "output_type": "display_data"
    }
   ],
   "source": [
    "%%html\n",
    "<iframe \n",
    "    src=\"../../interactiveCharts/candlestick-plotly-moving-average-2.html\" \n",
    "    width=\"800\" \n",
    "    height=\"600\" \n",
    "    title=\"candlestick with moving average 2\" \n",
    "    style=\"border:none\">\n",
    "</iframe>"
   ]
  },
  {
   "cell_type": "markdown",
   "metadata": {},
   "source": [
    "## Custom style of the moving averages\n",
    "\n",
    "To make our graph **easier to read** and **more informative**, we can change the `colors` of the bars and moving averages.\n",
    "\n",
    "- **change color**: add a `line` argument (dictionary) with the properties wanted (color, width and shape)\n",
    "- **add legend**: add a `name` argument with the text we want"
   ]
  },
  {
   "cell_type": "code",
   "execution_count": 10,
   "metadata": {
    "tags": []
   },
   "outputs": [
    {
     "data": {
      "application/vnd.plotly.v1+json": {
       "config": {
        "plotlyServerURL": "https://plot.ly"
       },
       "data": [
        {
         "close": [
          6041.5,
          6044.16015625,
          6013.58984375,
          6012.35009765625,
          6031,
          6042.5498046875,
          6037.10986328125,
          6036.14013671875,
          6040.89013671875,
          6032.60986328125,
          6039.02978515625,
          6100.72021484375,
          6078.5400390625,
          6045.990234375,
          6010.97998046875,
          5971.7900390625,
          6024.259765625,
          5863.02001953125,
          5925.81982421875,
          5954.89013671875,
          5871.77001953125,
          5806.33984375,
          5832.509765625,
          5935.0498046875,
          5985.39990234375,
          6038.18017578125,
          6029.75,
          6015.669921875,
          6054.759765625,
          6104.72998046875,
          6093.14013671875,
          6069.35009765625,
          6085.9501953125,
          6056.81982421875,
          6111.240234375,
          6062.2998046875,
          6029.72021484375,
          5791.8701171875,
          5679.68017578125,
          5684.5498046875,
          5495.60009765625,
          5309.89990234375,
          5333.52001953125,
          5393.169921875,
          5464.89013671875,
          5361.10009765625,
          5139.10986328125,
          4707.91015625,
          4636.60986328125,
          4610.25,
          4044.260009765625,
          4118.35986328125,
          3881.4599609375,
          3991.780029296875,
          3754.840087890625,
          3855.5,
          4048.800048828125,
          3914.31005859375,
          4242.7001953125,
          4432.2998046875,
          4543.580078125,
          4351.490234375
         ],
         "decreasing": {
          "line": {
           "color": "orangered"
          }
         },
         "high": [
          6062.919921875,
          6044.16015625,
          6017.97021484375,
          6065.740234375,
          6031,
          6071.66015625,
          6057.830078125,
          6058.68994140625,
          6046.1201171875,
          6053.009765625,
          6058.97021484375,
          6109.81005859375,
          6094.08984375,
          6045.990234375,
          6069.259765625,
          6024.31982421875,
          6064.5498046875,
          5942.830078125,
          5933.72021484375,
          5969.72998046875,
          5904.080078125,
          5894.68994140625,
          5857.39990234375,
          5935.0498046875,
          6004.330078125,
          6050.93994140625,
          6044.97021484375,
          6018.31005859375,
          6060.97021484375,
          6104.72998046875,
          6098.259765625,
          6096.06982421875,
          6088.60009765625,
          6079.5,
          6111.41015625,
          6110.9501953125,
          6067.2900390625,
          5884.85986328125,
          5828.4599609375,
          5707.31005859375,
          5613.72021484375,
          5376.0498046875,
          5430.0498046875,
          5509.27978515625,
          5493.25,
          5494.16015625,
          5284.080078125,
          4863.33984375,
          4924.83984375,
          4766,
          4404.259765625,
          4438.509765625,
          3962.010009765625,
          4042.4599609375,
          3908.719970703125,
          3909.14990234375,
          4109.10986328125,
          4097.81982421875,
          4242.7001953125,
          4453.009765625,
          4543.580078125,
          4471.3701171875
         ],
         "increasing": {
          "line": {
           "color": "limegreen"
          }
         },
         "low": [
          6011.2099609375,
          5994.58984375,
          5955.25,
          6000,
          5972.77001953125,
          6034.14990234375,
          6028.2900390625,
          6018.330078125,
          5980.0498046875,
          6011.27978515625,
          6021.02978515625,
          6066.2900390625,
          6071.169921875,
          5994.169921875,
          6005.77001953125,
          5961.8701171875,
          6016.77001953125,
          5851,
          5857.22998046875,
          5916.22998046875,
          5846.4501953125,
          5799.0400390625,
          5804.14013671875,
          5862.81982421875,
          5912.490234375,
          6008.5498046875,
          5999.9501953125,
          5993.91015625,
          6032.7900390625,
          6062.97021484375,
          6028.27978515625,
          6067.14013671875,
          6064.919921875,
          6039.93994140625,
          6072.66015625,
          6062.2998046875,
          5995.14013671875,
          5765.169921875,
          5670.7099609375,
          5526.14013671875,
          5421.31005859375,
          5229.56005859375,
          5197.56982421875,
          5371.66015625,
          5357.35009765625,
          5329.240234375,
          5117.56982421875,
          4691.2001953125,
          4615.16015625,
          4603.0498046875,
          4025.889892578125,
          4055.18994140625,
          3632.06005859375,
          3759,
          3726.449951171875,
          3691.080078125,
          3984.300048828125,
          3851.169921875,
          4038.06005859375,
          4221.31982421875,
          4296.06005859375,
          4288.66015625
         ],
         "open": [
          6016.60986328125,
          6007.9599609375,
          6001.2099609375,
          6033.22021484375,
          5986.81005859375,
          6066.75,
          6056.740234375,
          6040.91015625,
          6037.4501953125,
          6042.72021484375,
          6039.6201171875,
          6066.2900390625,
          6092.97021484375,
          6034.240234375,
          6053.85009765625,
          5992.47021484375,
          6019.60009765625,
          5924.06005859375,
          5886.81005859375,
          5921.97021484375,
          5886.02001953125,
          5891.7099609375,
          5822.0400390625,
          5863.35986328125,
          5919.06005859375,
          6045.0400390625,
          6027.5400390625,
          6008.47998046875,
          6047.9599609375,
          6064.25,
          6076.919921875,
          6096.06982421875,
          6079.52978515625,
          6042.3798828125,
          6086.10986328125,
          6105.169921875,
          6035.02978515625,
          5875.85986328125,
          5825.3701171875,
          5646.14013671875,
          5571.72021484375,
          5310.81982421875,
          5416.02001953125,
          5408.14990234375,
          5400.43017578125,
          5490.52001953125,
          5253.81982421875,
          4845.27001953125,
          4770.6201171875,
          4716.22021484375,
          4374.669921875,
          4234.3701171875,
          3886.820068359375,
          4041.330078125,
          3905.530029296875,
          3833.989990234375,
          4066.7900390625,
          3869.010009765625,
          4087.610107421875,
          4339.7099609375,
          4332.7900390625,
          4433.9501953125
         ],
         "showlegend": false,
         "type": "candlestick",
         "x": [
          "2020-01-02T00:00:00",
          "2020-01-03T00:00:00",
          "2020-01-06T00:00:00",
          "2020-01-07T00:00:00",
          "2020-01-08T00:00:00",
          "2020-01-09T00:00:00",
          "2020-01-10T00:00:00",
          "2020-01-13T00:00:00",
          "2020-01-14T00:00:00",
          "2020-01-15T00:00:00",
          "2020-01-16T00:00:00",
          "2020-01-17T00:00:00",
          "2020-01-20T00:00:00",
          "2020-01-21T00:00:00",
          "2020-01-22T00:00:00",
          "2020-01-23T00:00:00",
          "2020-01-24T00:00:00",
          "2020-01-27T00:00:00",
          "2020-01-28T00:00:00",
          "2020-01-29T00:00:00",
          "2020-01-30T00:00:00",
          "2020-01-31T00:00:00",
          "2020-02-03T00:00:00",
          "2020-02-04T00:00:00",
          "2020-02-05T00:00:00",
          "2020-02-06T00:00:00",
          "2020-02-07T00:00:00",
          "2020-02-10T00:00:00",
          "2020-02-11T00:00:00",
          "2020-02-12T00:00:00",
          "2020-02-13T00:00:00",
          "2020-02-14T00:00:00",
          "2020-02-17T00:00:00",
          "2020-02-18T00:00:00",
          "2020-02-19T00:00:00",
          "2020-02-20T00:00:00",
          "2020-02-21T00:00:00",
          "2020-02-24T00:00:00",
          "2020-02-25T00:00:00",
          "2020-02-26T00:00:00",
          "2020-02-27T00:00:00",
          "2020-02-28T00:00:00",
          "2020-03-02T00:00:00",
          "2020-03-03T00:00:00",
          "2020-03-04T00:00:00",
          "2020-03-05T00:00:00",
          "2020-03-06T00:00:00",
          "2020-03-09T00:00:00",
          "2020-03-10T00:00:00",
          "2020-03-11T00:00:00",
          "2020-03-12T00:00:00",
          "2020-03-13T00:00:00",
          "2020-03-16T00:00:00",
          "2020-03-17T00:00:00",
          "2020-03-18T00:00:00",
          "2020-03-19T00:00:00",
          "2020-03-20T00:00:00",
          "2020-03-23T00:00:00",
          "2020-03-24T00:00:00",
          "2020-03-25T00:00:00",
          "2020-03-26T00:00:00",
          "2020-03-27T00:00:00"
         ]
        },
        {
         "line": {
          "color": "gray",
          "shape": "spline",
          "width": 1
         },
         "name": "MA3",
         "type": "scatter",
         "x": [
          "2020-01-02T00:00:00",
          "2020-01-03T00:00:00",
          "2020-01-06T00:00:00",
          "2020-01-07T00:00:00",
          "2020-01-08T00:00:00",
          "2020-01-09T00:00:00",
          "2020-01-10T00:00:00",
          "2020-01-13T00:00:00",
          "2020-01-14T00:00:00",
          "2020-01-15T00:00:00",
          "2020-01-16T00:00:00",
          "2020-01-17T00:00:00",
          "2020-01-20T00:00:00",
          "2020-01-21T00:00:00",
          "2020-01-22T00:00:00",
          "2020-01-23T00:00:00",
          "2020-01-24T00:00:00",
          "2020-01-27T00:00:00",
          "2020-01-28T00:00:00",
          "2020-01-29T00:00:00",
          "2020-01-30T00:00:00",
          "2020-01-31T00:00:00",
          "2020-02-03T00:00:00",
          "2020-02-04T00:00:00",
          "2020-02-05T00:00:00",
          "2020-02-06T00:00:00",
          "2020-02-07T00:00:00",
          "2020-02-10T00:00:00",
          "2020-02-11T00:00:00",
          "2020-02-12T00:00:00",
          "2020-02-13T00:00:00",
          "2020-02-14T00:00:00",
          "2020-02-17T00:00:00",
          "2020-02-18T00:00:00",
          "2020-02-19T00:00:00",
          "2020-02-20T00:00:00",
          "2020-02-21T00:00:00",
          "2020-02-24T00:00:00",
          "2020-02-25T00:00:00",
          "2020-02-26T00:00:00",
          "2020-02-27T00:00:00",
          "2020-02-28T00:00:00",
          "2020-03-02T00:00:00",
          "2020-03-03T00:00:00",
          "2020-03-04T00:00:00",
          "2020-03-05T00:00:00",
          "2020-03-06T00:00:00",
          "2020-03-09T00:00:00",
          "2020-03-10T00:00:00",
          "2020-03-11T00:00:00",
          "2020-03-12T00:00:00",
          "2020-03-13T00:00:00",
          "2020-03-16T00:00:00",
          "2020-03-17T00:00:00",
          "2020-03-18T00:00:00",
          "2020-03-19T00:00:00",
          "2020-03-20T00:00:00",
          "2020-03-23T00:00:00",
          "2020-03-24T00:00:00",
          "2020-03-25T00:00:00",
          "2020-03-26T00:00:00",
          "2020-03-27T00:00:00"
         ],
         "y": [
          null,
          null,
          6033.083333333333,
          6023.36669921875,
          6018.97998046875,
          6028.63330078125,
          6036.886555989583,
          6038.599934895833,
          6038.046712239583,
          6036.546712239583,
          6037.509928385417,
          6057.453287760417,
          6072.763346354167,
          6075.08349609375,
          6045.170084635417,
          6009.586751302083,
          6002.34326171875,
          5953.023274739583,
          5937.699869791667,
          5914.57666015625,
          5917.493326822917,
          5877.666666666667,
          5836.873209635417,
          5857.966471354167,
          5917.653157552083,
          5986.2099609375,
          6017.776692708333,
          6027.86669921875,
          6033.393229166667,
          6058.386555989583,
          6084.2099609375,
          6089.073404947917,
          6082.8134765625,
          6070.706705729167,
          6084.670084635417,
          6076.78662109375,
          6067.75341796875,
          5961.296712239583,
          5833.7568359375,
          5718.700032552083,
          5619.943359375,
          5496.683268229167,
          5379.67333984375,
          5345.529947916667,
          5397.193359375,
          5406.38671875,
          5321.700032552083,
          5069.373372395833,
          4827.876627604167,
          4651.590006510417,
          4430.373291015625,
          4257.623291015625,
          4014.6932779947915,
          3997.199951171875,
          3876.0266927083335,
          3867.3733723958335,
          3886.3800455729165,
          3939.5367024739585,
          4068.6034342447915,
          4196.436686197917,
          4406.193359375,
          4442.456705729167
         ]
        },
        {
         "line": {
          "color": "black",
          "shape": "spline",
          "width": 1
         },
         "name": "MA8",
         "type": "scatter",
         "x": [
          "2020-01-02T00:00:00",
          "2020-01-03T00:00:00",
          "2020-01-06T00:00:00",
          "2020-01-07T00:00:00",
          "2020-01-08T00:00:00",
          "2020-01-09T00:00:00",
          "2020-01-10T00:00:00",
          "2020-01-13T00:00:00",
          "2020-01-14T00:00:00",
          "2020-01-15T00:00:00",
          "2020-01-16T00:00:00",
          "2020-01-17T00:00:00",
          "2020-01-20T00:00:00",
          "2020-01-21T00:00:00",
          "2020-01-22T00:00:00",
          "2020-01-23T00:00:00",
          "2020-01-24T00:00:00",
          "2020-01-27T00:00:00",
          "2020-01-28T00:00:00",
          "2020-01-29T00:00:00",
          "2020-01-30T00:00:00",
          "2020-01-31T00:00:00",
          "2020-02-03T00:00:00",
          "2020-02-04T00:00:00",
          "2020-02-05T00:00:00",
          "2020-02-06T00:00:00",
          "2020-02-07T00:00:00",
          "2020-02-10T00:00:00",
          "2020-02-11T00:00:00",
          "2020-02-12T00:00:00",
          "2020-02-13T00:00:00",
          "2020-02-14T00:00:00",
          "2020-02-17T00:00:00",
          "2020-02-18T00:00:00",
          "2020-02-19T00:00:00",
          "2020-02-20T00:00:00",
          "2020-02-21T00:00:00",
          "2020-02-24T00:00:00",
          "2020-02-25T00:00:00",
          "2020-02-26T00:00:00",
          "2020-02-27T00:00:00",
          "2020-02-28T00:00:00",
          "2020-03-02T00:00:00",
          "2020-03-03T00:00:00",
          "2020-03-04T00:00:00",
          "2020-03-05T00:00:00",
          "2020-03-06T00:00:00",
          "2020-03-09T00:00:00",
          "2020-03-10T00:00:00",
          "2020-03-11T00:00:00",
          "2020-03-12T00:00:00",
          "2020-03-13T00:00:00",
          "2020-03-16T00:00:00",
          "2020-03-17T00:00:00",
          "2020-03-18T00:00:00",
          "2020-03-19T00:00:00",
          "2020-03-20T00:00:00",
          "2020-03-23T00:00:00",
          "2020-03-24T00:00:00",
          "2020-03-25T00:00:00",
          "2020-03-26T00:00:00",
          "2020-03-27T00:00:00"
         ],
         "y": [
          null,
          null,
          null,
          null,
          null,
          null,
          null,
          6032.299987792969,
          6032.2237548828125,
          6030.779968261719,
          6033.9599609375,
          6045.0062255859375,
          6050.94873046875,
          6051.3787841796875,
          6048.112548828125,
          6040.068786621094,
          6037.989990234375,
          6016.791259765625,
          6002.6400146484375,
          5984.4112548828125,
          5958.565002441406,
          5928.608703613281,
          5906.2999267578125,
          5901.7073974609375,
          5896.849914550781,
          5918.744934082031,
          5931.7362060546875,
          5939.333679199219,
          5962.2073974609375,
          5999.506164550781,
          6032.0849609375,
          6048.872497558594,
          6061.4412841796875,
          6063.771240234375,
          6073.95751953125,
          6079.7862548828125,
          6076.656311035156,
          6037.548828125,
          5985.8663330078125,
          5937.766296386719,
          5863.9725341796875,
          5770.6075439453125,
          5673.392517089844,
          5589.751281738281,
          5519.147521972656,
          5465.30126953125,
          5397.72998046875,
          5275.6500244140625,
          5168.2762451171875,
          5080.820007324219,
          4919.662506103516,
          4760.311248779297,
          4562.382476806641,
          4391.217468261719,
          4218.183746337891,
          4111.632476806641,
          4038.15625,
          3951.1637573242188,
          3975.968780517578,
          4015.2112731933594,
          4097.976287841797,
          4142.9400634765625
         ]
        }
       ],
       "layout": {
        "autosize": false,
        "height": 500,
        "legend": {
         "font": {
          "size": 12
         },
         "x": 0.82,
         "y": 0.98
        },
        "template": {
         "data": {
          "bar": [
           {
            "error_x": {
             "color": "#2a3f5f"
            },
            "error_y": {
             "color": "#2a3f5f"
            },
            "marker": {
             "line": {
              "color": "#E5ECF6",
              "width": 0.5
             },
             "pattern": {
              "fillmode": "overlay",
              "size": 10,
              "solidity": 0.2
             }
            },
            "type": "bar"
           }
          ],
          "barpolar": [
           {
            "marker": {
             "line": {
              "color": "#E5ECF6",
              "width": 0.5
             },
             "pattern": {
              "fillmode": "overlay",
              "size": 10,
              "solidity": 0.2
             }
            },
            "type": "barpolar"
           }
          ],
          "carpet": [
           {
            "aaxis": {
             "endlinecolor": "#2a3f5f",
             "gridcolor": "white",
             "linecolor": "white",
             "minorgridcolor": "white",
             "startlinecolor": "#2a3f5f"
            },
            "baxis": {
             "endlinecolor": "#2a3f5f",
             "gridcolor": "white",
             "linecolor": "white",
             "minorgridcolor": "white",
             "startlinecolor": "#2a3f5f"
            },
            "type": "carpet"
           }
          ],
          "choropleth": [
           {
            "colorbar": {
             "outlinewidth": 0,
             "ticks": ""
            },
            "type": "choropleth"
           }
          ],
          "contour": [
           {
            "colorbar": {
             "outlinewidth": 0,
             "ticks": ""
            },
            "colorscale": [
             [
              0,
              "#0d0887"
             ],
             [
              0.1111111111111111,
              "#46039f"
             ],
             [
              0.2222222222222222,
              "#7201a8"
             ],
             [
              0.3333333333333333,
              "#9c179e"
             ],
             [
              0.4444444444444444,
              "#bd3786"
             ],
             [
              0.5555555555555556,
              "#d8576b"
             ],
             [
              0.6666666666666666,
              "#ed7953"
             ],
             [
              0.7777777777777778,
              "#fb9f3a"
             ],
             [
              0.8888888888888888,
              "#fdca26"
             ],
             [
              1,
              "#f0f921"
             ]
            ],
            "type": "contour"
           }
          ],
          "contourcarpet": [
           {
            "colorbar": {
             "outlinewidth": 0,
             "ticks": ""
            },
            "type": "contourcarpet"
           }
          ],
          "heatmap": [
           {
            "colorbar": {
             "outlinewidth": 0,
             "ticks": ""
            },
            "colorscale": [
             [
              0,
              "#0d0887"
             ],
             [
              0.1111111111111111,
              "#46039f"
             ],
             [
              0.2222222222222222,
              "#7201a8"
             ],
             [
              0.3333333333333333,
              "#9c179e"
             ],
             [
              0.4444444444444444,
              "#bd3786"
             ],
             [
              0.5555555555555556,
              "#d8576b"
             ],
             [
              0.6666666666666666,
              "#ed7953"
             ],
             [
              0.7777777777777778,
              "#fb9f3a"
             ],
             [
              0.8888888888888888,
              "#fdca26"
             ],
             [
              1,
              "#f0f921"
             ]
            ],
            "type": "heatmap"
           }
          ],
          "heatmapgl": [
           {
            "colorbar": {
             "outlinewidth": 0,
             "ticks": ""
            },
            "colorscale": [
             [
              0,
              "#0d0887"
             ],
             [
              0.1111111111111111,
              "#46039f"
             ],
             [
              0.2222222222222222,
              "#7201a8"
             ],
             [
              0.3333333333333333,
              "#9c179e"
             ],
             [
              0.4444444444444444,
              "#bd3786"
             ],
             [
              0.5555555555555556,
              "#d8576b"
             ],
             [
              0.6666666666666666,
              "#ed7953"
             ],
             [
              0.7777777777777778,
              "#fb9f3a"
             ],
             [
              0.8888888888888888,
              "#fdca26"
             ],
             [
              1,
              "#f0f921"
             ]
            ],
            "type": "heatmapgl"
           }
          ],
          "histogram": [
           {
            "marker": {
             "pattern": {
              "fillmode": "overlay",
              "size": 10,
              "solidity": 0.2
             }
            },
            "type": "histogram"
           }
          ],
          "histogram2d": [
           {
            "colorbar": {
             "outlinewidth": 0,
             "ticks": ""
            },
            "colorscale": [
             [
              0,
              "#0d0887"
             ],
             [
              0.1111111111111111,
              "#46039f"
             ],
             [
              0.2222222222222222,
              "#7201a8"
             ],
             [
              0.3333333333333333,
              "#9c179e"
             ],
             [
              0.4444444444444444,
              "#bd3786"
             ],
             [
              0.5555555555555556,
              "#d8576b"
             ],
             [
              0.6666666666666666,
              "#ed7953"
             ],
             [
              0.7777777777777778,
              "#fb9f3a"
             ],
             [
              0.8888888888888888,
              "#fdca26"
             ],
             [
              1,
              "#f0f921"
             ]
            ],
            "type": "histogram2d"
           }
          ],
          "histogram2dcontour": [
           {
            "colorbar": {
             "outlinewidth": 0,
             "ticks": ""
            },
            "colorscale": [
             [
              0,
              "#0d0887"
             ],
             [
              0.1111111111111111,
              "#46039f"
             ],
             [
              0.2222222222222222,
              "#7201a8"
             ],
             [
              0.3333333333333333,
              "#9c179e"
             ],
             [
              0.4444444444444444,
              "#bd3786"
             ],
             [
              0.5555555555555556,
              "#d8576b"
             ],
             [
              0.6666666666666666,
              "#ed7953"
             ],
             [
              0.7777777777777778,
              "#fb9f3a"
             ],
             [
              0.8888888888888888,
              "#fdca26"
             ],
             [
              1,
              "#f0f921"
             ]
            ],
            "type": "histogram2dcontour"
           }
          ],
          "mesh3d": [
           {
            "colorbar": {
             "outlinewidth": 0,
             "ticks": ""
            },
            "type": "mesh3d"
           }
          ],
          "parcoords": [
           {
            "line": {
             "colorbar": {
              "outlinewidth": 0,
              "ticks": ""
             }
            },
            "type": "parcoords"
           }
          ],
          "pie": [
           {
            "automargin": true,
            "type": "pie"
           }
          ],
          "scatter": [
           {
            "fillpattern": {
             "fillmode": "overlay",
             "size": 10,
             "solidity": 0.2
            },
            "type": "scatter"
           }
          ],
          "scatter3d": [
           {
            "line": {
             "colorbar": {
              "outlinewidth": 0,
              "ticks": ""
             }
            },
            "marker": {
             "colorbar": {
              "outlinewidth": 0,
              "ticks": ""
             }
            },
            "type": "scatter3d"
           }
          ],
          "scattercarpet": [
           {
            "marker": {
             "colorbar": {
              "outlinewidth": 0,
              "ticks": ""
             }
            },
            "type": "scattercarpet"
           }
          ],
          "scattergeo": [
           {
            "marker": {
             "colorbar": {
              "outlinewidth": 0,
              "ticks": ""
             }
            },
            "type": "scattergeo"
           }
          ],
          "scattergl": [
           {
            "marker": {
             "colorbar": {
              "outlinewidth": 0,
              "ticks": ""
             }
            },
            "type": "scattergl"
           }
          ],
          "scattermapbox": [
           {
            "marker": {
             "colorbar": {
              "outlinewidth": 0,
              "ticks": ""
             }
            },
            "type": "scattermapbox"
           }
          ],
          "scatterpolar": [
           {
            "marker": {
             "colorbar": {
              "outlinewidth": 0,
              "ticks": ""
             }
            },
            "type": "scatterpolar"
           }
          ],
          "scatterpolargl": [
           {
            "marker": {
             "colorbar": {
              "outlinewidth": 0,
              "ticks": ""
             }
            },
            "type": "scatterpolargl"
           }
          ],
          "scatterternary": [
           {
            "marker": {
             "colorbar": {
              "outlinewidth": 0,
              "ticks": ""
             }
            },
            "type": "scatterternary"
           }
          ],
          "surface": [
           {
            "colorbar": {
             "outlinewidth": 0,
             "ticks": ""
            },
            "colorscale": [
             [
              0,
              "#0d0887"
             ],
             [
              0.1111111111111111,
              "#46039f"
             ],
             [
              0.2222222222222222,
              "#7201a8"
             ],
             [
              0.3333333333333333,
              "#9c179e"
             ],
             [
              0.4444444444444444,
              "#bd3786"
             ],
             [
              0.5555555555555556,
              "#d8576b"
             ],
             [
              0.6666666666666666,
              "#ed7953"
             ],
             [
              0.7777777777777778,
              "#fb9f3a"
             ],
             [
              0.8888888888888888,
              "#fdca26"
             ],
             [
              1,
              "#f0f921"
             ]
            ],
            "type": "surface"
           }
          ],
          "table": [
           {
            "cells": {
             "fill": {
              "color": "#EBF0F8"
             },
             "line": {
              "color": "white"
             }
            },
            "header": {
             "fill": {
              "color": "#C8D4E3"
             },
             "line": {
              "color": "white"
             }
            },
            "type": "table"
           }
          ]
         },
         "layout": {
          "annotationdefaults": {
           "arrowcolor": "#2a3f5f",
           "arrowhead": 0,
           "arrowwidth": 1
          },
          "autotypenumbers": "strict",
          "coloraxis": {
           "colorbar": {
            "outlinewidth": 0,
            "ticks": ""
           }
          },
          "colorscale": {
           "diverging": [
            [
             0,
             "#8e0152"
            ],
            [
             0.1,
             "#c51b7d"
            ],
            [
             0.2,
             "#de77ae"
            ],
            [
             0.3,
             "#f1b6da"
            ],
            [
             0.4,
             "#fde0ef"
            ],
            [
             0.5,
             "#f7f7f7"
            ],
            [
             0.6,
             "#e6f5d0"
            ],
            [
             0.7,
             "#b8e186"
            ],
            [
             0.8,
             "#7fbc41"
            ],
            [
             0.9,
             "#4d9221"
            ],
            [
             1,
             "#276419"
            ]
           ],
           "sequential": [
            [
             0,
             "#0d0887"
            ],
            [
             0.1111111111111111,
             "#46039f"
            ],
            [
             0.2222222222222222,
             "#7201a8"
            ],
            [
             0.3333333333333333,
             "#9c179e"
            ],
            [
             0.4444444444444444,
             "#bd3786"
            ],
            [
             0.5555555555555556,
             "#d8576b"
            ],
            [
             0.6666666666666666,
             "#ed7953"
            ],
            [
             0.7777777777777778,
             "#fb9f3a"
            ],
            [
             0.8888888888888888,
             "#fdca26"
            ],
            [
             1,
             "#f0f921"
            ]
           ],
           "sequentialminus": [
            [
             0,
             "#0d0887"
            ],
            [
             0.1111111111111111,
             "#46039f"
            ],
            [
             0.2222222222222222,
             "#7201a8"
            ],
            [
             0.3333333333333333,
             "#9c179e"
            ],
            [
             0.4444444444444444,
             "#bd3786"
            ],
            [
             0.5555555555555556,
             "#d8576b"
            ],
            [
             0.6666666666666666,
             "#ed7953"
            ],
            [
             0.7777777777777778,
             "#fb9f3a"
            ],
            [
             0.8888888888888888,
             "#fdca26"
            ],
            [
             1,
             "#f0f921"
            ]
           ]
          },
          "colorway": [
           "#636efa",
           "#EF553B",
           "#00cc96",
           "#ab63fa",
           "#FFA15A",
           "#19d3f3",
           "#FF6692",
           "#B6E880",
           "#FF97FF",
           "#FECB52"
          ],
          "font": {
           "color": "#2a3f5f"
          },
          "geo": {
           "bgcolor": "white",
           "lakecolor": "white",
           "landcolor": "#E5ECF6",
           "showlakes": true,
           "showland": true,
           "subunitcolor": "white"
          },
          "hoverlabel": {
           "align": "left"
          },
          "hovermode": "closest",
          "mapbox": {
           "style": "light"
          },
          "paper_bgcolor": "white",
          "plot_bgcolor": "#E5ECF6",
          "polar": {
           "angularaxis": {
            "gridcolor": "white",
            "linecolor": "white",
            "ticks": ""
           },
           "bgcolor": "#E5ECF6",
           "radialaxis": {
            "gridcolor": "white",
            "linecolor": "white",
            "ticks": ""
           }
          },
          "scene": {
           "xaxis": {
            "backgroundcolor": "#E5ECF6",
            "gridcolor": "white",
            "gridwidth": 2,
            "linecolor": "white",
            "showbackground": true,
            "ticks": "",
            "zerolinecolor": "white"
           },
           "yaxis": {
            "backgroundcolor": "#E5ECF6",
            "gridcolor": "white",
            "gridwidth": 2,
            "linecolor": "white",
            "showbackground": true,
            "ticks": "",
            "zerolinecolor": "white"
           },
           "zaxis": {
            "backgroundcolor": "#E5ECF6",
            "gridcolor": "white",
            "gridwidth": 2,
            "linecolor": "white",
            "showbackground": true,
            "ticks": "",
            "zerolinecolor": "white"
           }
          },
          "shapedefaults": {
           "line": {
            "color": "#2a3f5f"
           }
          },
          "ternary": {
           "aaxis": {
            "gridcolor": "white",
            "linecolor": "white",
            "ticks": ""
           },
           "baxis": {
            "gridcolor": "white",
            "linecolor": "white",
            "ticks": ""
           },
           "bgcolor": "#E5ECF6",
           "caxis": {
            "gridcolor": "white",
            "linecolor": "white",
            "ticks": ""
           }
          },
          "title": {
           "x": 0.05
          },
          "xaxis": {
           "automargin": true,
           "gridcolor": "white",
           "linecolor": "white",
           "ticks": "",
           "title": {
            "standoff": 15
           },
           "zerolinecolor": "white",
           "zerolinewidth": 2
          },
          "yaxis": {
           "automargin": true,
           "gridcolor": "white",
           "linecolor": "white",
           "ticks": "",
           "title": {
            "standoff": 15
           },
           "zerolinecolor": "white",
           "zerolinewidth": 2
          }
         }
        },
        "width": 600,
        "xaxis": {
         "rangeslider": {
          "visible": false
         }
        }
       }
      }
     },
     "metadata": {},
     "output_type": "display_data"
    }
   ],
   "source": [
    "fig = go.Figure(data=[go.Candlestick(\n",
    "                \n",
    "                x = stock_data.index, # date values\n",
    "                open = stock_data['Open'],\n",
    "                high = stock_data['High'],\n",
    "                low = stock_data['Low'],\n",
    "                close = stock_data['Close'],\n",
    "                \n",
    "                # color or bars\n",
    "                increasing_line_color = 'limegreen',\n",
    "                decreasing_line_color = 'orangered',\n",
    "                showlegend=False), \n",
    "                      \n",
    "                      # Add the moving average\n",
    "                      go.Scatter(x=stock_data['moving3'].index,\n",
    "                                 y=stock_data['moving3'],\n",
    "                                 line=dict(color='gray',\n",
    "                                           width=1,\n",
    "                                           shape='spline'), # smooth the line\n",
    "                                 name='MA3'),\n",
    "                      \n",
    "                      go.Scatter(x=stock_data['moving8'].index,\n",
    "                                 y=stock_data['moving8'],\n",
    "                                 line=dict(color='black',\n",
    "                                           width=1,\n",
    "                                           shape='spline'), # smooth the line\n",
    "                                 name='MA8')\n",
    "                     ])\n",
    "\n",
    "# Mask a default range slider\n",
    "fig.update_layout(xaxis_rangeslider_visible=False)\n",
    "\n",
    "# Set layout size\n",
    "fig.update_layout(\n",
    "    autosize=False,\n",
    "    width=600,\n",
    "    height=500,\n",
    "    legend=dict(\n",
    "        x=0.82,  # Adjust the legend's x position\n",
    "        y=0.98,  # Adjust the legend's y position\n",
    "        font=dict(size=12)  # Customize font size\n",
    "    )\n",
    ")"
   ]
  },
  {
   "cell_type": "markdown",
   "metadata": {},
   "source": [
    "Now, let's save the graph in a HTML file and display it in this website using an `iframe`"
   ]
  },
  {
   "cell_type": "code",
   "execution_count": 11,
   "metadata": {},
   "outputs": [],
   "source": [
    "# save this file as a standalong html file:\n",
    "fig.write_html(\"../../static/interactiveCharts/candlestick-plotly-moving-average-3.html\")"
   ]
  },
  {
   "cell_type": "code",
   "execution_count": 12,
   "metadata": {},
   "outputs": [
    {
     "data": {
      "text/html": [
       "<iframe \n",
       "    src=\"../../interactiveCharts/candlestick-plotly-moving-average-3.html\" \n",
       "    width=\"800\" \n",
       "    height=\"600\" \n",
       "    title=\"candlestick with moving average 3\" \n",
       "    style=\"border:none\">\n",
       "</iframe>\n"
      ],
      "text/plain": [
       "<IPython.core.display.HTML object>"
      ]
     },
     "metadata": {},
     "output_type": "display_data"
    }
   ],
   "source": [
    "%%html\n",
    "<iframe \n",
    "    src=\"../../interactiveCharts/candlestick-plotly-moving-average-3.html\" \n",
    "    width=\"800\" \n",
    "    height=\"600\" \n",
    "    title=\"candlestick with moving average 3\" \n",
    "    style=\"border:none\">\n",
    "</iframe>"
   ]
  },
  {
   "cell_type": "markdown",
   "metadata": {},
   "source": [
    "## Going further\n",
    "\n",
    "This post explains how to create a candlestick chart with [plotly](https://python-graph-gallery.com/plotly/).\n",
    "\n",
    "For more examples of **how to create or customize** your candlestick plots, see the [candlestick section](https://python-graph-gallery.com/candlestick/). You may also be interested in how to [custom style of a plotly candlestick chart](https://python-graph-gallery.com/554-custom-candle-stick-plotly/)."
   ]
  }
 ],
 "metadata": {
  "chartType": "candlestick",
  "description": "<a href='https://python-graph-gallery.com/candlestick/'>A candlestick chart</a>, created using the <a href='https://python-graph-gallery.com/plotly/'>Plotly</a> library in Python, is a graphical representation of <b>financial data</b>. It displays price movements over a specific time period, typically used in stock market analysis. Candlestick charts are composed of individual <i>'candlesticks'</i>, each representing the <b>opening, closing, high, and low</b> prices for a given time interval. These candlesticks are displayed on a two-dimensional coordinate system, with one axis representing time and the other axis representing price. <br><br>  <code>Plotly</code> has a <code>Candlestick()</code> function that provides the capability to create candlestick charts easily. In this post, we'll see how to add moving averages in <a href='https://python-graph-gallery.com/candlestick/'> candlestick charts</a> with this library. You might first want to take a look at <a href='https://python-graph-gallery.com/553-intro-candle-stick-plotly/'>how to customize a candlestick chart</a> (color, layout...) with plotly.",
  "family": "evolution",
  "kernelspec": {
   "display_name": "Python 3 (ipykernel)",
   "language": "python",
   "name": "python3"
  },
  "keywords": "candlestick, plotly, moving, rolling, average, chart, finance",
  "language_info": {
   "codemirror_mode": {
    "name": "ipython",
    "version": 3
   },
   "file_extension": ".py",
   "mimetype": "text/x-python",
   "name": "python",
   "nbconvert_exporter": "python",
   "pygments_lexer": "ipython3",
   "version": "3.9.13"
  },
  "seoDescription": "How to create a candlestick chart with moving averages with plotly",
  "slug": "555-candle-stick-with-moving-average-plotly",
  "title": "Candlestick chart with moving averages"
 },
 "nbformat": 4,
 "nbformat_minor": 4
}
