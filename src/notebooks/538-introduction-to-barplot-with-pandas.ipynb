{
 "cells": [
  {
   "cell_type": "markdown",
   "metadata": {},
   "source": [
    "## Libraries\n",
    "\n",
    "[Pandas](https://python-graph-gallery.com/pandas/) is a popular open-source Python library used for data manipulation and analysis. It provides data structures and functions that make working with structured data, such as tabular data (like `Excel` spreadsheets or `SQL` tables), easy and intuitive.\n",
    "\n",
    "To install [Pandas](https://python-graph-gallery.com/pandas/), you can use the **following command** in your command-line interface (such as `Terminal` or `Command Prompt`):\n",
    "\n",
    "`pip install pandas`"
   ]
  },
  {
   "cell_type": "markdown",
   "metadata": {},
   "source": [
    "[Matplotlib](https://python-graph-gallery.com/matplotlib/) functionalities have been **integrated into the pandas** library, facilitating their use with `dataframes` and `series`. For this reason, you might also need to **import the [matplotlib](https://python-graph-gallery.com/matplotlib/) library** when building charts with [Pandas](https://python-graph-gallery.com/pandas/).\n",
    "\n",
    "This also means that they use the **same functions**, and if you already know [Matplotlib](https://python-graph-gallery.com/matplotlib/), you'll have no trouble learning plots with [Pandas](https://python-graph-gallery.com/pandas/)."
   ]
  },
  {
   "cell_type": "code",
   "execution_count": 1,
   "metadata": {
    "tags": []
   },
   "outputs": [],
   "source": [
    "import pandas as pd\n",
    "import matplotlib.pyplot as plt"
   ]
  },
  {
   "cell_type": "markdown",
   "metadata": {},
   "source": [
    "## Dataset\n",
    "\n",
    "In order to create graphics with [Pandas](https://python-graph-gallery.com/pandas/), we need to use **pandas objects**: `Dataframes` and `Series`. A dataframe can be seen as an `Excel` table, and a series as a `column` in that table. This means that we must **systematically** convert our data into a format used by pandas.\n",
    "\n",
    "Since [barplots](https://python-graph-gallery.com/barplot/) need qualitative variables, we will create a dataset with a categorical variable."
   ]
  },
  {
   "cell_type": "code",
   "execution_count": 2,
   "metadata": {
    "tags": []
   },
   "outputs": [],
   "source": [
    "# Create a list with 3 different categories\n",
    "category = ['Group1']*30 + ['Group2']*50 + ['Group3']*20\n",
    "\n",
    "# Store the data into a dataframe\n",
    "df = pd.DataFrame({'category': category})"
   ]
  },
  {
   "cell_type": "markdown",
   "metadata": {},
   "source": [
    "## Barplot with the bar() function\n",
    "\n",
    "Once we've opened our dataset, we'll now **create the graph**. An important feature of [barplots](https://python-graph-gallery.com/barplot/) in Python is that you **can't simply** give them a column name as an argument. \n",
    "\n",
    "Instead, we have to calculate the **counts for each category** ourselves and give them as input to the function. To do this, we simply use the pandas `value_counts()` function."
   ]
  },
  {
   "cell_type": "code",
   "execution_count": 3,
   "metadata": {
    "tags": []
   },
   "outputs": [
    {
     "data": {
      "image/png": "[encoded data removed]",
      "text/plain": [
       "<Figure size 640x480 with 1 Axes>"
      ]
     },
     "metadata": {},
     "output_type": "display_data"
    }
   ],
   "source": [
    "# Get the repartition of each category\n",
    "values = df['category'].value_counts()\n",
    "\n",
    "# Create the plot\n",
    "values.plot.bar(grid=True) # Add a grid in the background\n",
    "plt.show()"
   ]
  },
  {
   "cell_type": "markdown",
   "metadata": {},
   "source": [
    "## Barplot with the plot() function\n",
    "\n",
    "We'll now look at how to create a [barplot](https://python-graph-gallery.com/barplot/) using the `plot()` function. This function is **very general** and therefore requires **more arguments** to be specified when it is called.\n",
    "\n",
    "The main argument is `kind`. This specifies the type of chart we want (in our case it's `'bar'`). For example, we could have put `'line'` for a [line chart](https://python-graph-gallery.com/line-chart/)."
   ]
  },
  {
   "cell_type": "code",
   "execution_count": 4,
   "metadata": {
    "tags": []
   },
   "outputs": [
    {
     "data": {
      "image/png": "[encoded data removed]",
      "text/plain": [
       "<Figure size 640x480 with 1 Axes>"
      ]
     },
     "metadata": {},
     "output_type": "display_data"
    }
   ],
   "source": [
    "# Get the repartition of each category\n",
    "values = df['category'].value_counts()\n",
    "\n",
    "# Create the plot\n",
    "values.plot(kind='bar', # type of chart\n",
    "            grid=True # Add a grid in the background\n",
    "           )\n",
    "plt.show()"
   ]
  },
  {
   "cell_type": "markdown",
   "metadata": {},
   "source": [
    "## Going further\n",
    "\n",
    "This post explains how to create a simple barplot with [pandas](https://python-graph-gallery.com/pandas/) in 2 different ways.\n",
    "\n",
    "For more examples of **how to create or customize** your plots with Pandas, see the [pandas section](https://python-graph-gallery.com/pandas/). You may also be interested in how to customize your barplots with [Matplotlib and Seaborn](https://python-graph-gallery.com/barplot/)."
   ]
  }
 ],
 "metadata": {
  "chartType": "barplot",
  "description": "A <a href='https://python-graph-gallery.com/barplot/'>barplot</a> is a graphical representation of data points in a dataset, where individual data points are represented by <b>rectangular bars</b> on a two-dimensional coordinate system. This type of plot allows us to visualize the <b>distribution of categorical data</b> by showing the frequency or count of each category along the plot.<br> <a href='https://python-graph-gallery.com/pandas/'>Pandas</a>, a powerful <b>data manipulation</b> library in Python, allows us to create bar plots with ease. In this post, we will explore how to leverage <code>Pandas</code> to create simple bar plots.",
  "family": "ranking",
  "kernelspec": {
   "display_name": "Python 3 (ipykernel)",
   "language": "python",
   "name": "python3"
  },
  "keywords": "bar, barplot, pandas, matplotlib, chart",
  "language_info": {
   "codemirror_mode": {
    "name": "ipython",
    "version": 3
   },
   "file_extension": ".py",
   "mimetype": "text/x-python",
   "name": "python",
   "nbconvert_exporter": "python",
   "pygments_lexer": "ipython3",
   "version": "3.9.13"
  },
  "seoDescription": "How to create a barplot with Pandas",
  "slug": "538-introduction-to-barplot-with-pandas",
  "title": "Introduction to barplot with pandas"
 },
 "nbformat": 4,
 "nbformat_minor": 4
}
